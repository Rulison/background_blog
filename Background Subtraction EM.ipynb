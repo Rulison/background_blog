{
 "metadata": {
  "name": "",
  "signature": "sha256:51d0082ba79f0277c0f7d89fd0a5b9d7f84429b53e427275928512b9af035975"
 },
 "nbformat": 3,
 "nbformat_minor": 0,
 "worksheets": [
  {
   "cells": [
    {
     "cell_type": "code",
     "collapsed": false,
     "input": [
      "import numpy as np\n",
      "import os\n",
      "import random\n",
      "import scipy\n",
      "import skimage.io as skio\n",
      "\n",
      "from matplotlib import pyplot as plt\n",
      "from mpl_toolkits.mplot3d import Axes3D\n",
      "from PIL import Image\n",
      "from scipy.stats import multivariate_normal\n",
      "%matplotlib inline"
     ],
     "language": "python",
     "metadata": {},
     "outputs": [],
     "prompt_number": 286
    },
    {
     "cell_type": "code",
     "collapsed": false,
     "input": [
      "# Import ppm files as numpy array\n",
      "data = []\n",
      "for img in os.listdir('sequences/long2b/'):\n",
      "    data.append(Image.open('sequences/long2b/' + img))\n",
      "data = np.array([np.array(img.getdata()) for img in data])"
     ],
     "language": "python",
     "metadata": {},
     "outputs": [],
     "prompt_number": 287
    },
    {
     "cell_type": "code",
     "collapsed": false,
     "input": [
      "img = data[0,:].reshape((20, 20, 3)) / 255.\n",
      "skio.imshow(img)\n",
      "skio.show()"
     ],
     "language": "python",
     "metadata": {},
     "outputs": [
      {
       "metadata": {},
       "output_type": "display_data",
       "png": "[encoded data removed]",
       "text": [
        "<matplotlib.figure.Figure at 0x161b18950>"
       ]
      }
     ],
     "prompt_number": 288
    },
    {
     "cell_type": "code",
     "collapsed": false,
     "input": [
      "# Initialize container variables with a slot for each label\n",
      "num_classes = 3\n",
      "num_pixels = data[0].shape[0]\n",
      "num_colors = data[0].shape[1]\n",
      "\n",
      "N = np.zeros((num_pixels, num_classes))\n",
      "M_indices = np.zeros((num_pixels, num_classes))\n",
      "for i in range(num_pixels):\n",
      "    for j in range(num_classes):\n",
      "        M_indices[i, j] = i*num_classes + j\n",
      "Z_indices = np.copy(M_indices)\n",
      "M = {x: np.zeros(num_colors) for x in range(num_pixels * num_classes)}\n",
      "Z = {x: np.zeros((num_colors, num_colors)) for x in range(num_pixels * num_classes)}\n",
      "\n",
      "# Define parameters for initialization\n",
      "weights = (1 / float(num_classes)) * np.ones((num_pixels, num_classes))\n",
      "parameter_indices = np.copy(M_indices)\n",
      "parameters = {x: {'mean': np.zeros(num_colors),\n",
      "                  'covariance': np.zeros((num_colors, num_colors))} for x in range(num_pixels * num_classes)}\n",
      "\n",
      "# Define list of labels for each pixel\n",
      "label_indices = np.zeros(num_pixels)\n",
      "for i in range(num_pixels):\n",
      "    label_indices[i] = i\n",
      "labels = {x: [0] for x in range(num_pixels)}"
     ],
     "language": "python",
     "metadata": {},
     "outputs": [],
     "prompt_number": 294
    },
    {
     "cell_type": "code",
     "collapsed": false,
     "input": [
      "# For each pixel, search through the video sequence for the minimum and maximum datapoints\n",
      "# and perform random initializations\n",
      "def initialize_parameters(index):\n",
      "    current_pixel = index // num_classes\n",
      "    current_class = index % num_classes\n",
      "    minimum_pixel_values = np.array((np.min(data[:, current_pixel, 0]),\n",
      "                                     np.min(data[:, current_pixel, 1]),\n",
      "                                     np.min(data[:, current_pixel, 2])))\n",
      "    maximum_pixel_values = np.array((np.max(data[:, current_pixel, 0]),\n",
      "                                     np.max(data[:, current_pixel, 1]),\n",
      "                                     np.max(data[:, current_pixel, 2])))\n",
      "    parameters[index]['mean'] = minimum_pixel_values + \\\n",
      "                                np.random.random() * (maximum_pixel_values - minimum_pixel_values)\n",
      "    parameters[index]['covariance'] = np.diag(np.square(maximum_pixel_values - minimum_pixel_values)) * \\\n",
      "                                      np.random.random(3)\n",
      "\n",
      "np.vectorize(initialize_parameters)(parameter_indices)"
     ],
     "language": "python",
     "metadata": {},
     "outputs": [
      {
       "metadata": {},
       "output_type": "pyout",
       "prompt_number": 295,
       "text": [
        "array([[None, None, None],\n",
        "       [None, None, None],\n",
        "       [None, None, None],\n",
        "       ..., \n",
        "       [None, None, None],\n",
        "       [None, None, None],\n",
        "       [None, None, None]], dtype=object)"
       ]
      }
     ],
     "prompt_number": 295
    },
    {
     "cell_type": "code",
     "collapsed": false,
     "input": [
      "# Perform initialization of sufficient statistics using prior k = 3\n",
      "k = 3\n",
      "N = k * weights\n",
      "def initialize_sufficient_statistics(index):\n",
      "    current_pixel = index / num_classes\n",
      "    current_class = index % num_classes\n",
      "    current_weight = weights[current_pixel, current_class]\n",
      "    mean = parameters[index]['mean']\n",
      "    covariance = parameters[index]['covariance']\n",
      "    M[index] = k * current_weight * mean\n",
      "    Z[index] = k * current_weight * (covariance + np.outer(mean, mean))\n",
      "    \n",
      "np.vectorize(initialize_sufficient_statistics)(M_indices)"
     ],
     "language": "python",
     "metadata": {},
     "outputs": [
      {
       "metadata": {},
       "output_type": "pyout",
       "prompt_number": 296,
       "text": [
        "array([[None, None, None],\n",
        "       [None, None, None],\n",
        "       [None, None, None],\n",
        "       ..., \n",
        "       [None, None, None],\n",
        "       [None, None, None],\n",
        "       [None, None, None]], dtype=object)"
       ]
      }
     ],
     "prompt_number": 296
    },
    {
     "cell_type": "code",
     "collapsed": false,
     "input": [
      "def compute_likelihood(index):\n",
      "    mean = parameters[index]['mean']\n",
      "    covariance = parameters[index]['covariance']\n",
      "    current_weight = weights[index / num_classes, index % num_classes]\n",
      "    distribution = multivariate_normal(mean, covariance, allow_singular=True)\n",
      "    pixel_intensity = data[t, index / num_classes]\n",
      "    return current_weight * distribution.pdf(pixel_intensity)\n",
      "\n",
      "def update_M(likelihood, index):\n",
      "    pixel_intensity = data[t, index / num_classes]\n",
      "    M[index] += pixel_intensity * likelihood\n",
      "    \n",
      "def update_Z(likelihood, index):\n",
      "    pixel_intensity = data[t, index / num_classes]\n",
      "    Z[index] += np.outer(pixel_intensity, pixel_intensity) * likelihood\n",
      "    \n",
      "def update_mean_covariance(likelihood, index):\n",
      "    current_pixel = index / num_classes\n",
      "    current_class = index % num_classes\n",
      "    num_objects_so_far = N[current_pixel, current_class]\n",
      "    if num_objects_so_far != 0:\n",
      "        weights[current_pixel, current_class] = num_objects_so_far / np.sum(N[current_pixel])\n",
      "        mean = M[index] / num_objects_so_far\n",
      "        parameters[index]['mean'] = mean\n",
      "        parameters[index]['covariance'] = Z[index] / num_objects_so_far - np.outer(mean, mean)\n",
      "\n",
      "def update_label(likelihood, index):\n",
      "    current_pixel = index // num_classes\n",
      "    current_class = index % num_classes\n",
      "    if np.max(normalized_likelihood[current_pixel]) == likelihood:\n",
      "        labels[current_pixel].append(current_class)"
     ],
     "language": "python",
     "metadata": {},
     "outputs": [],
     "prompt_number": 297
    },
    {
     "cell_type": "code",
     "collapsed": false,
     "input": [
      "for t in range(data.shape[0]):\n",
      "    likelihood = np.vectorize(compute_likelihood, cache=True)(parameter_indices)\n",
      "    normalized_likelihood = np.apply_along_axis(lambda x: x / np.sum(x), 1, likelihood)\n",
      "    # Account for divide by zero due to uniform zero probability\n",
      "    normalized_likelihood[np.isnan(normalized_likelihood)] = 1 / 3.\n",
      "\n",
      "    N += normalized_likelihood\n",
      "    np.vectorize(update_M, cache=True)(normalized_likelihood, M_indices)\n",
      "    np.vectorize(update_Z, cache=True)(normalized_likelihood, Z_indices)\n",
      "    np.vectorize(update_mean_covariance, cache=True)(normalized_likelihood, parameter_indices)\n",
      "    np.vectorize(update_label, cache=True)(normalized_likelihood, parameter_indices)    \n",
      "    print t"
     ],
     "language": "python",
     "metadata": {},
     "outputs": [
      {
       "output_type": "stream",
       "stream": "stdout",
       "text": [
        "0\n",
        "1"
       ]
      },
      {
       "output_type": "stream",
       "stream": "stdout",
       "text": [
        "\n",
        "2"
       ]
      },
      {
       "output_type": "stream",
       "stream": "stdout",
       "text": [
        "\n",
        "3"
       ]
      },
      {
       "output_type": "stream",
       "stream": "stdout",
       "text": [
        "\n",
        "4"
       ]
      },
      {
       "output_type": "stream",
       "stream": "stdout",
       "text": [
        "\n",
        "5"
       ]
      },
      {
       "output_type": "stream",
       "stream": "stdout",
       "text": [
        "\n",
        "6"
       ]
      },
      {
       "output_type": "stream",
       "stream": "stdout",
       "text": [
        "\n",
        "7"
       ]
      },
      {
       "output_type": "stream",
       "stream": "stdout",
       "text": [
        "\n",
        "8"
       ]
      },
      {
       "output_type": "stream",
       "stream": "stdout",
       "text": [
        "\n",
        "9"
       ]
      },
      {
       "output_type": "stream",
       "stream": "stdout",
       "text": [
        "\n",
        "10"
       ]
      },
      {
       "output_type": "stream",
       "stream": "stdout",
       "text": [
        "\n",
        "11"
       ]
      },
      {
       "output_type": "stream",
       "stream": "stdout",
       "text": [
        "\n",
        "12"
       ]
      },
      {
       "output_type": "stream",
       "stream": "stdout",
       "text": [
        "\n",
        "13"
       ]
      },
      {
       "output_type": "stream",
       "stream": "stdout",
       "text": [
        "\n",
        "14"
       ]
      },
      {
       "output_type": "stream",
       "stream": "stdout",
       "text": [
        "\n",
        "15"
       ]
      },
      {
       "output_type": "stream",
       "stream": "stdout",
       "text": [
        "\n",
        "16"
       ]
      },
      {
       "output_type": "stream",
       "stream": "stdout",
       "text": [
        "\n",
        "17"
       ]
      },
      {
       "output_type": "stream",
       "stream": "stdout",
       "text": [
        "\n",
        "18"
       ]
      },
      {
       "output_type": "stream",
       "stream": "stdout",
       "text": [
        "\n",
        "19"
       ]
      },
      {
       "output_type": "stream",
       "stream": "stdout",
       "text": [
        "\n",
        "20"
       ]
      },
      {
       "output_type": "stream",
       "stream": "stdout",
       "text": [
        "\n",
        "21"
       ]
      },
      {
       "output_type": "stream",
       "stream": "stdout",
       "text": [
        "\n",
        "22"
       ]
      },
      {
       "output_type": "stream",
       "stream": "stdout",
       "text": [
        "\n",
        "23"
       ]
      },
      {
       "output_type": "stream",
       "stream": "stdout",
       "text": [
        "\n",
        "24"
       ]
      },
      {
       "output_type": "stream",
       "stream": "stdout",
       "text": [
        "\n",
        "25"
       ]
      },
      {
       "output_type": "stream",
       "stream": "stdout",
       "text": [
        "\n",
        "26"
       ]
      },
      {
       "output_type": "stream",
       "stream": "stdout",
       "text": [
        "\n",
        "27"
       ]
      },
      {
       "output_type": "stream",
       "stream": "stdout",
       "text": [
        "\n",
        "28"
       ]
      },
      {
       "output_type": "stream",
       "stream": "stdout",
       "text": [
        "\n",
        "29"
       ]
      },
      {
       "output_type": "stream",
       "stream": "stdout",
       "text": [
        "\n",
        "30"
       ]
      },
      {
       "output_type": "stream",
       "stream": "stdout",
       "text": [
        "\n",
        "31"
       ]
      },
      {
       "output_type": "stream",
       "stream": "stdout",
       "text": [
        "\n",
        "32"
       ]
      },
      {
       "output_type": "stream",
       "stream": "stdout",
       "text": [
        "\n",
        "33"
       ]
      },
      {
       "output_type": "stream",
       "stream": "stdout",
       "text": [
        "\n",
        "34"
       ]
      },
      {
       "output_type": "stream",
       "stream": "stdout",
       "text": [
        "\n",
        "35"
       ]
      },
      {
       "output_type": "stream",
       "stream": "stdout",
       "text": [
        "\n",
        "36"
       ]
      },
      {
       "output_type": "stream",
       "stream": "stdout",
       "text": [
        "\n",
        "37"
       ]
      }
     ]
    },
    {
     "cell_type": "code",
     "collapsed": false,
     "input": [
      "print(normalized_likelihood)"
     ],
     "language": "python",
     "metadata": {},
     "outputs": [
      {
       "output_type": "stream",
       "stream": "stdout",
       "text": [
        "[[  3.70957439e-03   2.65700360e-04   9.96024725e-01]\n",
        " [  5.16009506e-04   9.88322528e-01   1.11614621e-02]\n",
        " [  8.46458700e-06   1.01337212e-03   9.98978163e-01]\n",
        " ..., \n",
        " [  9.99868210e-01   1.00148680e-04   3.16417626e-05]\n",
        " [  6.55786145e-05   9.98247634e-01   1.68678696e-03]\n",
        " [  9.99154353e-01   5.31368162e-04   3.14278342e-04]]\n"
       ]
      }
     ],
     "prompt_number": 192
    },
    {
     "cell_type": "code",
     "collapsed": false,
     "input": [
      "def compute_background_image():\n",
      "    background_image = np.zeros(data[0].shape)\n",
      "    for i in range(num_pixels):\n",
      "        maximum_likelihood_index = np.argmax(weights[i])\n",
      "        current_mean = parameters[i*num_classes + maximum_likelihood_index]['mean']\n",
      "        background_image[i] = current_mean\n",
      "    return background_image"
     ],
     "language": "python",
     "metadata": {},
     "outputs": [],
     "prompt_number": 193
    },
    {
     "cell_type": "code",
     "collapsed": false,
     "input": [
      "background_image = compute_background_image()"
     ],
     "language": "python",
     "metadata": {},
     "outputs": [],
     "prompt_number": 194
    },
    {
     "cell_type": "code",
     "collapsed": false,
     "input": [
      "plt.imshow(np.reshape(background_image, (20, 20, 3)) / 255.)\n",
      "plt.show()"
     ],
     "language": "python",
     "metadata": {},
     "outputs": [
      {
       "metadata": {},
       "output_type": "display_data",
       "png": "[encoded data removed]",
       "text": [
        "<matplotlib.figure.Figure at 0x10de73810>"
       ]
      }
     ],
     "prompt_number": 195
    },
    {
     "cell_type": "code",
     "collapsed": false,
     "input": [
      "def save_current_distribution(current_pixel):\n",
      "    param_1 = parameters[0]\n",
      "    param_2 = parameters[1]\n",
      "    param_3 = parameters[2]\n",
      "    fig = plt.figure()\n",
      "    ax = fig.add_subplot(111, projection='3d')\n",
      "    X, Y, z = np.random.multivariate_normal(param_1['mean'], param_1['covariance'], int(weights[0][0] * 500)).T\n",
      "    ax.scatter(X, Y, z, c='r')\n",
      "    X, Y, z = np.random.multivariate_normal(param_2['mean'], param_2['covariance'], int(weights[0][1] * 500)).T\n",
      "    ax.scatter(X, Y, z, c='b')\n",
      "    X, Y, z = np.random.multivariate_normal(param_3['mean'], param_3['covariance'], int(weights[0][2] * 500)).T\n",
      "    ax.scatter(X, Y, z, c='g')"
     ],
     "language": "python",
     "metadata": {},
     "outputs": [],
     "prompt_number": 177
    },
    {
     "cell_type": "code",
     "collapsed": false,
     "input": [
      "param_1 = parameters[0]\n",
      "param_2 = parameters[1]\n",
      "param_3 = parameters[2]\n",
      "fig = plt.figure()\n",
      "ax = fig.add_subplot(111, projection='3d')\n",
      "X, Y, z = np.random.multivariate_normal(param_1['mean'], param_1['covariance'], int(500)).T\n",
      "ax.scatter(X, Y, z, c='r')\n",
      "X, Y, z = np.random.multivariate_normal(param_2['mean'], param_2['covariance'], int(500)).T\n",
      "ax.scatter(X, Y, z, c='b')\n",
      "X, Y, z = np.random.multivariate_normal(param_3['mean'], param_3['covariance'], int(500)).T\n",
      "ax.scatter(X, Y, z, c='g')\n",
      "ax.set_xlim([0, 255])\n",
      "ax.set_ylim([0, 255])\n",
      "ax.set_zlim([0, 255])"
     ],
     "language": "python",
     "metadata": {},
     "outputs": [
      {
       "metadata": {},
       "output_type": "pyout",
       "prompt_number": 275,
       "text": [
        "(0, 255)"
       ]
      },
      {
       "metadata": {},
       "output_type": "display_data",
       "png": "[encoded data removed]",
       "text": [
        "<matplotlib.figure.Figure at 0x162fae5d0>"
       ]
      }
     ],
     "prompt_number": 275
    },
    {
     "cell_type": "code",
     "collapsed": false,
     "input": [
      "fig = plt.figure()\n",
      "ax = fig.add_subplot(111, projection='3d')\n",
      "ax.scatter(data[:, 0, 0], data[:, 0, 1], data[:, 0, 2], c='b')\n",
      "ax.set_xlim([0, 255])\n",
      "ax.set_ylim([0, 255])\n",
      "ax.set_zlim([0, 255])"
     ],
     "language": "python",
     "metadata": {},
     "outputs": [
      {
       "metadata": {},
       "output_type": "pyout",
       "prompt_number": 255,
       "text": [
        "(0, 255)"
       ]
      },
      {
       "metadata": {},
       "output_type": "display_data",
       "png": "[encoded data removed]",
       "text": [
        "<matplotlib.figure.Figure at 0x162ce98d0>"
       ]
      }
     ],
     "prompt_number": 255
    },
    {
     "cell_type": "code",
     "collapsed": false,
     "input": [
      "def compute_vehicle_image():\n",
      "    vehicle_images = []\n",
      "    def update_with_vehicle(index):\n",
      "        maximum_likelihood_index = np.argmax(weights[index])\n",
      "        if maximum_likelihood_index != labels[index][t]:\n",
      "            current_image[index] = 1\n",
      "        # indices = parameter_indices[index]\n",
      "        # covariance_det = np.array([np.linalg.det(parameters[x]['covariance']) for x in indices])\n",
      "        # vehicle_index = np.argmax(covariance_det)\n",
      "        # if vehicle_index == labels[index][t]:\n",
      "        #     current_image[index] = 1\n",
      "    \n",
      "    img_indices = np.array([x for x in range(data[0].shape[0])])\n",
      "    for t in range(data.shape[0]):\n",
      "        current_image = np.zeros(data[0].shape)\n",
      "        np.vectorize(update_with_vehicle, cache=True)(img_indices)\n",
      "        vehicle_images.append(current_image)\n",
      "    return vehicle_images"
     ],
     "language": "python",
     "metadata": {},
     "outputs": [],
     "prompt_number": 283
    },
    {
     "cell_type": "code",
     "collapsed": false,
     "input": [
      "vehicle_img = compute_vehicle_image()"
     ],
     "language": "python",
     "metadata": {},
     "outputs": [],
     "prompt_number": 284
    },
    {
     "cell_type": "code",
     "collapsed": false,
     "input": [
      "skio.imshow(vehicle_img[30].reshape(20, 20, 3))\n",
      "skio.show()"
     ],
     "language": "python",
     "metadata": {},
     "outputs": [
      {
       "metadata": {},
       "output_type": "display_data",
       "png": "[encoded data removed]",
       "text": [
        "<matplotlib.figure.Figure at 0x163411c90>"
       ]
      }
     ],
     "prompt_number": 285
    },
    {
     "cell_type": "code",
     "collapsed": false,
     "input": [
      "i = 0\n",
      "for img in vehicle_img:\n",
      "    skio.imsave('gif/vehicle_label/img_{0}.jpg'.format(i), img.reshape(20, 20, 3))\n",
      "    i += 1"
     ],
     "language": "python",
     "metadata": {},
     "outputs": [],
     "prompt_number": 279
    },
    {
     "cell_type": "code",
     "collapsed": false,
     "input": [
      "np.sum(vehicle_img)"
     ],
     "language": "python",
     "metadata": {},
     "outputs": [
      {
       "metadata": {},
       "output_type": "pyout",
       "prompt_number": 266,
       "text": [
        "867.0"
       ]
      }
     ],
     "prompt_number": 266
    },
    {
     "cell_type": "code",
     "collapsed": false,
     "input": [
      "np.sum(np.array(vehicle_img)[:, 200])"
     ],
     "language": "python",
     "metadata": {},
     "outputs": [
      {
       "metadata": {},
       "output_type": "pyout",
       "prompt_number": 241,
       "text": [
        "0.0"
       ]
      }
     ],
     "prompt_number": 241
    },
    {
     "cell_type": "code",
     "collapsed": false,
     "input": [
      "for t in range(500):\n",
      "    labeled = vehicle_img[t].reshape(20, 20, 3)\n",
      "    current_data = data[t].reshape(20, 20, 3) / 255.\n",
      "    concat = np.hstack((current_data, labeled))\n",
      "    skio.imsave('images/img_{0}.jpg'.format(t), concat)"
     ],
     "language": "python",
     "metadata": {},
     "outputs": [
      {
       "output_type": "stream",
       "stream": "stdout",
       "text": [
        "(20, 40, 3)\n",
        "(20, 40, 3)\n",
        "(20, 40, 3)\n",
        "(20, 40, 3)\n",
        "(20, 40, 3)\n",
        "(20, 40, 3)\n",
        "(20, 40, 3)\n",
        "(20, 40, 3)\n",
        "(20, 40, 3)\n",
        "(20, 40, 3)\n",
        "(20, 40, 3)\n",
        "(20, 40, 3)\n",
        "(20, 40, 3)\n",
        "(20, 40, 3)\n",
        "(20, 40, 3)\n",
        "(20, 40, 3)\n",
        "(20, 40, 3)\n",
        "(20, 40, 3)\n",
        "(20, 40, 3)\n",
        "(20, 40, 3)\n",
        "(20, 40, 3)\n",
        "(20, 40, 3)\n",
        "(20, 40, 3)\n",
        "(20, 40, 3)\n",
        "(20, 40, 3)\n",
        "(20, 40, 3)\n",
        "(20, 40, 3)\n",
        "(20, 40, 3)\n",
        "(20, 40, 3)\n",
        "(20, 40, 3)\n",
        "(20, 40, 3)\n",
        "(20, 40, 3)\n",
        "(20, 40, 3)\n",
        "(20, 40, 3)\n",
        "(20, 40, 3)\n",
        "(20, 40, 3)\n",
        "(20, 40, 3)\n",
        "(20, 40, 3)\n",
        "(20, 40, 3)\n",
        "(20, 40, 3)\n",
        "(20, 40, 3)\n",
        "(20, 40, 3)\n",
        "(20, 40, 3)\n",
        "(20, 40, 3)\n",
        "(20, 40, 3)"
       ]
      },
      {
       "output_type": "stream",
       "stream": "stdout",
       "text": [
        "\n",
        "(20, 40, 3)\n",
        "(20, 40, 3)\n",
        "(20, 40, 3)\n",
        "(20, 40, 3)\n",
        "(20, 40, 3)\n",
        "(20, 40, 3)\n",
        "(20, 40, 3)\n",
        "(20, 40, 3)\n",
        "(20, 40, 3)\n",
        "(20, 40, 3)\n",
        "(20, 40, 3)\n",
        "(20, 40, 3)\n",
        "(20, 40, 3)\n",
        "(20, 40, 3)\n",
        "(20, 40, 3)\n",
        "(20, 40, 3)\n",
        "(20, 40, 3)\n",
        "(20, 40, 3)\n",
        "(20, 40, 3)\n",
        "(20, 40, 3)\n",
        "(20, 40, 3)\n",
        "(20, 40, 3)\n",
        "(20, 40, 3)\n",
        "(20, 40, 3)\n",
        "(20, 40, 3)\n",
        "(20, 40, 3)\n",
        "(20, 40, 3)\n",
        "(20, 40, 3)\n",
        "(20, 40, 3)\n",
        "(20, 40, 3)\n",
        "(20, 40, 3)\n",
        "(20, 40, 3)\n",
        "(20, 40, 3)\n",
        "(20, 40, 3)\n",
        "(20, 40, 3)"
       ]
      },
      {
       "output_type": "stream",
       "stream": "stdout",
       "text": [
        "\n",
        "(20, 40, 3)\n",
        "(20, 40, 3)\n",
        "(20, 40, 3)\n",
        "(20, 40, 3)\n",
        "(20, 40, 3)\n",
        "(20, 40, 3)\n",
        "(20, 40, 3)\n",
        "(20, 40, 3)\n",
        "(20, 40, 3)\n",
        "(20, 40, 3)\n",
        "(20, 40, 3)\n",
        "(20, 40, 3)\n",
        "(20, 40, 3)\n",
        "(20, 40, 3)\n",
        "(20, 40, 3)\n",
        "(20, 40, 3)\n",
        "(20, 40, 3)\n",
        "(20, 40, 3)\n",
        "(20, 40, 3)\n",
        "(20, 40, 3)\n",
        "(20, 40, 3)\n",
        "(20, 40, 3)\n",
        "(20, 40, 3)\n",
        "(20, 40, 3)\n",
        "(20, 40, 3)\n",
        "(20, 40, 3)\n",
        "(20, 40, 3)\n",
        "(20, 40, 3)\n",
        "(20, 40, 3)\n",
        "(20, 40, 3)\n",
        "(20, 40, 3)\n",
        "(20, 40, 3)\n",
        "(20, 40, 3)\n",
        "(20, 40, 3)\n",
        "(20, 40, 3)\n",
        "(20, 40, 3)\n",
        "(20, 40, 3)"
       ]
      },
      {
       "output_type": "stream",
       "stream": "stdout",
       "text": [
        "\n",
        "(20, 40, 3)\n",
        "(20, 40, 3)\n",
        "(20, 40, 3)\n",
        "(20, 40, 3)\n",
        "(20, 40, 3)\n",
        "(20, 40, 3)\n",
        "(20, 40, 3)\n",
        "(20, 40, 3)\n",
        "(20, 40, 3)\n",
        "(20, 40, 3)\n",
        "(20, 40, 3)\n",
        "(20, 40, 3)\n",
        "(20, 40, 3)\n",
        "(20, 40, 3)\n",
        "(20, 40, 3)\n",
        "(20, 40, 3)\n",
        "(20, 40, 3)\n",
        "(20, 40, 3)\n",
        "(20, 40, 3)\n",
        "(20, 40, 3)\n",
        "(20, 40, 3)\n",
        "(20, 40, 3)\n",
        "(20, 40, 3)\n",
        "(20, 40, 3)\n",
        "(20, 40, 3)\n",
        "(20, 40, 3)\n",
        "(20, 40, 3)\n",
        "(20, 40, 3)\n",
        "(20, 40, 3)\n",
        "(20, 40, 3)\n",
        "(20, 40, 3)\n",
        "(20, 40, 3)\n",
        "(20, 40, 3)\n",
        "(20, 40, 3)"
       ]
      },
      {
       "output_type": "stream",
       "stream": "stdout",
       "text": [
        "\n",
        "(20, 40, 3)\n",
        "(20, 40, 3)\n",
        "(20, 40, 3)\n",
        "(20, 40, 3)\n",
        "(20, 40, 3)\n",
        "(20, 40, 3)\n",
        "(20, 40, 3)\n",
        "(20, 40, 3)\n",
        "(20, 40, 3)\n",
        "(20, 40, 3)\n",
        "(20, 40, 3)\n",
        "(20, 40, 3)\n",
        "(20, 40, 3)\n",
        "(20, 40, 3)\n",
        "(20, 40, 3)\n",
        "(20, 40, 3)\n",
        "(20, 40, 3)\n",
        "(20, 40, 3)\n",
        "(20, 40, 3)\n",
        "(20, 40, 3)"
       ]
      },
      {
       "output_type": "stream",
       "stream": "stdout",
       "text": [
        "\n",
        "(20, 40, 3)\n",
        "(20, 40, 3)\n",
        "(20, 40, 3)\n",
        "(20, 40, 3)\n",
        "(20, 40, 3)\n",
        "(20, 40, 3)\n",
        "(20, 40, 3)\n",
        "(20, 40, 3)\n",
        "(20, 40, 3)\n",
        "(20, 40, 3)\n",
        "(20, 40, 3)\n",
        "(20, 40, 3)\n",
        "(20, 40, 3)\n",
        "(20, 40, 3)\n",
        "(20, 40, 3)\n",
        "(20, 40, 3)\n",
        "(20, 40, 3)\n",
        "(20, 40, 3)\n",
        "(20, 40, 3)\n",
        "(20, 40, 3)\n",
        "(20, 40, 3)\n",
        "(20, 40, 3)\n",
        "(20, 40, 3)\n",
        "(20, 40, 3)\n",
        "(20, 40, 3)\n",
        "(20, 40, 3)\n",
        "(20, 40, 3)"
       ]
      },
      {
       "output_type": "stream",
       "stream": "stdout",
       "text": [
        "\n",
        "(20, 40, 3)\n",
        "(20, 40, 3)\n",
        "(20, 40, 3)\n",
        "(20, 40, 3)\n",
        "(20, 40, 3)\n",
        "(20, 40, 3)\n",
        "(20, 40, 3)\n",
        "(20, 40, 3)\n",
        "(20, 40, 3)\n",
        "(20, 40, 3)\n",
        "(20, 40, 3)\n",
        "(20, 40, 3)\n",
        "(20, 40, 3)\n",
        "(20, 40, 3)\n",
        "(20, 40, 3)\n",
        "(20, 40, 3)\n",
        "(20, 40, 3)\n",
        "(20, 40, 3)\n",
        "(20, 40, 3)\n",
        "(20, 40, 3)\n",
        "(20, 40, 3)\n",
        "(20, 40, 3)\n",
        "(20, 40, 3)\n",
        "(20, 40, 3)\n",
        "(20, 40, 3)\n",
        "(20, 40, 3)\n",
        "(20, 40, 3)\n",
        "(20, 40, 3)\n",
        "(20, 40, 3)\n",
        "(20, 40, 3)\n",
        "(20, 40, 3)\n",
        "(20, 40, 3)"
       ]
      },
      {
       "output_type": "stream",
       "stream": "stdout",
       "text": [
        "\n",
        "(20, 40, 3)\n",
        "(20, 40, 3)\n",
        "(20, 40, 3)\n",
        "(20, 40, 3)\n",
        "(20, 40, 3)\n",
        "(20, 40, 3)\n",
        "(20, 40, 3)\n",
        "(20, 40, 3)\n",
        "(20, 40, 3)\n",
        "(20, 40, 3)\n",
        "(20, 40, 3)\n",
        "(20, 40, 3)\n",
        "(20, 40, 3)\n",
        "(20, 40, 3)\n",
        "(20, 40, 3)\n",
        "(20, 40, 3)\n",
        "(20, 40, 3)\n",
        "(20, 40, 3)\n",
        "(20, 40, 3)\n",
        "(20, 40, 3)\n",
        "(20, 40, 3)\n",
        "(20, 40, 3)\n",
        "(20, 40, 3)\n",
        "(20, 40, 3)\n",
        "(20, 40, 3)\n",
        "(20, 40, 3)\n",
        "(20, 40, 3)\n",
        "(20, 40, 3)\n",
        "(20, 40, 3)\n",
        "(20, 40, 3)\n",
        "(20, 40, 3)"
       ]
      },
      {
       "output_type": "stream",
       "stream": "stdout",
       "text": [
        "\n",
        "(20, 40, 3)\n",
        "(20, 40, 3)\n",
        "(20, 40, 3)\n",
        "(20, 40, 3)\n",
        "(20, 40, 3)\n",
        "(20, 40, 3)\n",
        "(20, 40, 3)\n",
        "(20, 40, 3)\n",
        "(20, 40, 3)\n",
        "(20, 40, 3)\n",
        "(20, 40, 3)\n",
        "(20, 40, 3)\n",
        "(20, 40, 3)\n",
        "(20, 40, 3)\n",
        "(20, 40, 3)\n",
        "(20, 40, 3)\n",
        "(20, 40, 3)\n",
        "(20, 40, 3)\n",
        "(20, 40, 3)\n",
        "(20, 40, 3)\n",
        "(20, 40, 3)\n",
        "(20, 40, 3)\n",
        "(20, 40, 3)\n",
        "(20, 40, 3)"
       ]
      },
      {
       "output_type": "stream",
       "stream": "stdout",
       "text": [
        "\n",
        "(20, 40, 3)\n",
        "(20, 40, 3)\n",
        "(20, 40, 3)\n",
        "(20, 40, 3)\n",
        "(20, 40, 3)\n",
        "(20, 40, 3)\n",
        "(20, 40, 3)\n",
        "(20, 40, 3)\n",
        "(20, 40, 3)\n",
        "(20, 40, 3)\n",
        "(20, 40, 3)\n",
        "(20, 40, 3)\n",
        "(20, 40, 3)\n",
        "(20, 40, 3)\n",
        "(20, 40, 3)\n",
        "(20, 40, 3)\n",
        "(20, 40, 3)\n",
        "(20, 40, 3)\n",
        "(20, 40, 3)\n",
        "(20, 40, 3)"
       ]
      },
      {
       "output_type": "stream",
       "stream": "stdout",
       "text": [
        "\n",
        "(20, 40, 3)\n",
        "(20, 40, 3)\n",
        "(20, 40, 3)\n",
        "(20, 40, 3)\n",
        "(20, 40, 3)\n",
        "(20, 40, 3)\n",
        "(20, 40, 3)\n",
        "(20, 40, 3)\n",
        "(20, 40, 3)\n",
        "(20, 40, 3)\n",
        "(20, 40, 3)\n",
        "(20, 40, 3)\n",
        "(20, 40, 3)\n",
        "(20, 40, 3)\n",
        "(20, 40, 3)\n",
        "(20, 40, 3)\n",
        "(20, 40, 3)\n",
        "(20, 40, 3)\n",
        "(20, 40, 3)\n",
        "(20, 40, 3)"
       ]
      },
      {
       "output_type": "stream",
       "stream": "stdout",
       "text": [
        "\n",
        "(20, 40, 3)\n",
        "(20, 40, 3)\n",
        "(20, 40, 3)\n",
        "(20, 40, 3)\n",
        "(20, 40, 3)\n",
        "(20, 40, 3)\n",
        "(20, 40, 3)"
       ]
      },
      {
       "output_type": "stream",
       "stream": "stdout",
       "text": [
        "\n",
        "(20, 40, 3)\n",
        "(20, 40, 3)\n",
        "(20, 40, 3)\n",
        "(20, 40, 3)\n",
        "(20, 40, 3)\n",
        "(20, 40, 3)\n",
        "(20, 40, 3)\n",
        "(20, 40, 3)\n",
        "(20, 40, 3)\n",
        "(20, 40, 3)\n",
        "(20, 40, 3)\n",
        "(20, 40, 3)\n",
        "(20, 40, 3)\n",
        "(20, 40, 3)\n",
        "(20, 40, 3)\n",
        "(20, 40, 3)\n",
        "(20, 40, 3)\n",
        "(20, 40, 3)\n",
        "(20, 40, 3)\n",
        "(20, 40, 3)\n",
        "(20, 40, 3)\n",
        "(20, 40, 3)\n",
        "(20, 40, 3)"
       ]
      },
      {
       "output_type": "stream",
       "stream": "stdout",
       "text": [
        "\n",
        "(20, 40, 3)\n",
        "(20, 40, 3)\n",
        "(20, 40, 3)\n",
        "(20, 40, 3)\n",
        "(20, 40, 3)\n",
        "(20, 40, 3)\n",
        "(20, 40, 3)\n",
        "(20, 40, 3)\n",
        "(20, 40, 3)\n",
        "(20, 40, 3)\n",
        "(20, 40, 3)\n",
        "(20, 40, 3)\n",
        "(20, 40, 3)\n",
        "(20, 40, 3)\n",
        "(20, 40, 3)\n",
        "(20, 40, 3)\n",
        "(20, 40, 3)\n",
        "(20, 40, 3)\n",
        "(20, 40, 3)\n",
        "(20, 40, 3)\n",
        "(20, 40, 3)\n",
        "(20, 40, 3)\n",
        "(20, 40, 3)\n",
        "(20, 40, 3)\n",
        "(20, 40, 3)"
       ]
      },
      {
       "output_type": "stream",
       "stream": "stdout",
       "text": [
        "\n",
        "(20, 40, 3)\n",
        "(20, 40, 3)\n",
        "(20, 40, 3)\n",
        "(20, 40, 3)\n",
        "(20, 40, 3)\n",
        "(20, 40, 3)\n",
        "(20, 40, 3)\n",
        "(20, 40, 3)\n",
        "(20, 40, 3)\n",
        "(20, 40, 3)\n",
        "(20, 40, 3)\n",
        "(20, 40, 3)\n",
        "(20, 40, 3)\n",
        "(20, 40, 3)\n",
        "(20, 40, 3)\n",
        "(20, 40, 3)\n",
        "(20, 40, 3)"
       ]
      },
      {
       "output_type": "stream",
       "stream": "stdout",
       "text": [
        "\n",
        "(20, 40, 3)\n",
        "(20, 40, 3)\n",
        "(20, 40, 3)\n",
        "(20, 40, 3)\n",
        "(20, 40, 3)\n",
        "(20, 40, 3)\n",
        "(20, 40, 3)\n",
        "(20, 40, 3)\n",
        "(20, 40, 3)\n",
        "(20, 40, 3)\n",
        "(20, 40, 3)\n",
        "(20, 40, 3)\n",
        "(20, 40, 3)\n",
        "(20, 40, 3)\n",
        "(20, 40, 3)\n",
        "(20, 40, 3)\n",
        "(20, 40, 3)\n",
        "(20, 40, 3)"
       ]
      },
      {
       "output_type": "stream",
       "stream": "stdout",
       "text": [
        "\n",
        "(20, 40, 3)\n",
        "(20, 40, 3)\n",
        "(20, 40, 3)\n",
        "(20, 40, 3)\n",
        "(20, 40, 3)\n",
        "(20, 40, 3)\n",
        "(20, 40, 3)\n",
        "(20, 40, 3)\n",
        "(20, 40, 3)\n",
        "(20, 40, 3)\n",
        "(20, 40, 3)\n",
        "(20, 40, 3)\n",
        "(20, 40, 3)\n",
        "(20, 40, 3)\n",
        "(20, 40, 3)\n",
        "(20, 40, 3)\n",
        "(20, 40, 3)\n",
        "(20, 40, 3)\n",
        "(20, 40, 3)\n",
        "(20, 40, 3)\n",
        "(20, 40, 3)\n",
        "(20, 40, 3)\n",
        "(20, 40, 3)\n",
        "(20, 40, 3)\n",
        "(20, 40, 3)\n",
        "(20, 40, 3)\n",
        "(20, 40, 3)\n",
        "(20, 40, 3)\n",
        "(20, 40, 3)\n",
        "(20, 40, 3)\n",
        "(20, 40, 3)\n",
        "(20, 40, 3)\n",
        "(20, 40, 3)\n",
        "(20, 40, 3)\n",
        "(20, 40, 3)\n",
        "(20, 40, 3)\n",
        "(20, 40, 3)\n",
        "(20, 40, 3)\n",
        "(20, 40, 3)\n",
        "(20, 40, 3)"
       ]
      },
      {
       "output_type": "stream",
       "stream": "stdout",
       "text": [
        "\n",
        "(20, 40, 3)\n",
        "(20, 40, 3)\n",
        "(20, 40, 3)\n",
        "(20, 40, 3)\n",
        "(20, 40, 3)\n",
        "(20, 40, 3)\n",
        "(20, 40, 3)\n",
        "(20, 40, 3)\n",
        "(20, 40, 3)\n",
        "(20, 40, 3)\n",
        "(20, 40, 3)\n",
        "(20, 40, 3)\n",
        "(20, 40, 3)\n",
        "(20, 40, 3)\n",
        "(20, 40, 3)\n",
        "(20, 40, 3)\n",
        "(20, 40, 3)\n",
        "(20, 40, 3)\n",
        "(20, 40, 3)\n",
        "(20, 40, 3)\n",
        "(20, 40, 3)\n",
        "(20, 40, 3)\n",
        "(20, 40, 3)\n",
        "(20, 40, 3)\n",
        "(20, 40, 3)"
       ]
      },
      {
       "output_type": "stream",
       "stream": "stdout",
       "text": [
        "\n",
        "(20, 40, 3)\n",
        "(20, 40, 3)\n",
        "(20, 40, 3)\n",
        "(20, 40, 3)\n",
        "(20, 40, 3)\n",
        "(20, 40, 3)\n",
        "(20, 40, 3)\n",
        "(20, 40, 3)\n",
        "(20, 40, 3)\n",
        "(20, 40, 3)\n",
        "(20, 40, 3)\n",
        "(20, 40, 3)\n",
        "(20, 40, 3)\n",
        "(20, 40, 3)\n",
        "(20, 40, 3)\n",
        "(20, 40, 3)\n",
        "(20, 40, 3)\n",
        "(20, 40, 3)\n",
        "(20, 40, 3)\n",
        "(20, 40, 3)\n"
       ]
      }
     ],
     "prompt_number": 274
    },
    {
     "cell_type": "code",
     "collapsed": false,
     "input": [],
     "language": "python",
     "metadata": {},
     "outputs": [],
     "prompt_number": 282
    },
    {
     "cell_type": "code",
     "collapsed": false,
     "input": [],
     "language": "python",
     "metadata": {},
     "outputs": []
    }
   ],
   "metadata": {}
  }
 ]
}