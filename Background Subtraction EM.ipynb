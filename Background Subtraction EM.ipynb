{
 "metadata": {
  "kernelspec": {
   "display_name": "Python 2",
   "language": "python",
   "name": "python2"
  },
  "language_info": {
   "codemirror_mode": {
    "name": "ipython",
    "version": 2
   },
   "file_extension": ".py",
   "mimetype": "text/x-python",
   "name": "python",
   "nbconvert_exporter": "python",
   "pygments_lexer": "ipython2",
   "version": "2.7.11"
  },
  "name": "",
  "signature": "sha256:730967dea35f61f2a56c0866bf9645f3a08ff2003abfce00c60929a8993ab180"
 },
 "nbformat": 3,
 "nbformat_minor": 0,
 "worksheets": [
  {
   "cells": [
    {
     "cell_type": "markdown",
     "metadata": {},
     "source": [
      "##  Background Subtraction combining Friedman/Russell and Stauffer/Grimson\n",
      "\n",
      "This model will use the initialization and EM update framework from Friedman and Russell, and incorporate elements of Stauffer and Grimson for improved performance. The model parameters are given as follows:\n",
      "* Use a mixture of K Gaussians to represent the background distribution\n",
      "* Keep sufficient statistics N (number of partial assignments to images), M (sum of pixel values for partial assignments) and Z (sum of outer products of image vectors with themselves)\n",
      "* At each timestep:\n",
      "    * Update the distributions using a likelihood function weighted by the prior weight of each distribution\n",
      "    * Sort the Gaussians by the weight to variance ratio, then account for a certain fraction $T$ as background\n",
      "    * Consider matches to distribution not part of background as foreground\n",
      "* (Experiment) First try using $K = 5$ classes\n",
      "* (Experiment) Decay the values N, M, Z by a forgetting rate $\\alpha$\n",
      "    * Idea: Implicitly capture the forgetting advocated by Stauffer and Grimson via direct updates to $\\mu, \\sigma$\n",
      "* (Experiment) Using the normalized likelihoods, sum into two groups \"background\"/\"foreground\""
     ]
    },
    {
     "cell_type": "code",
     "collapsed": false,
     "input": [
      "import numpy as np\n",
      "import os\n",
      "import random\n",
      "import scipy\n",
      "import skimage.io as skio\n",
      "\n",
      "from math import exp\n",
      "from matplotlib import pyplot as plt\n",
      "from mpl_toolkits.mplot3d import Axes3D\n",
      "from PIL import Image\n",
      "from scipy.stats import multivariate_normal\n",
      "%matplotlib inline"
     ],
     "language": "python",
     "metadata": {},
     "outputs": [],
     "prompt_number": 1
    },
    {
     "cell_type": "code",
     "collapsed": true,
     "input": [
      "def sigmoid(x):\n",
      "    if x < 1:\n",
      "        return 1 - (1 / (1 + exp(-(1 / x))))\n",
      "    return 1 / (1 + exp(-x))"
     ],
     "language": "python",
     "metadata": {},
     "outputs": [],
     "prompt_number": 2
    },
    {
     "cell_type": "code",
     "collapsed": false,
     "input": [
      "# Import ppm files as numpy array\n",
      "data = []\n",
      "for img in os.listdir('sequences/long2b/'):\n",
      "    data.append(Image.open('sequences/long2b/' + img))\n",
      "# for i in range(len(os.listdir('img/'))):\n",
      "#     data.append(Image.open('img/frame{}.jpg'.format(i + 1)))\n",
      "data = np.array([np.array(img.getdata()) for img in data])"
     ],
     "language": "python",
     "metadata": {},
     "outputs": [],
     "prompt_number": 3
    },
    {
     "cell_type": "code",
     "collapsed": false,
     "input": [
      "img = data[0,:].reshape((20, 20, 3)) / 255.\n",
      "skio.imshow(img)\n",
      "skio.show()"
     ],
     "language": "python",
     "metadata": {},
     "outputs": [
      {
       "metadata": {},
       "output_type": "display_data",
       "png": "[encoded data removed]",
       "text": [
        "<matplotlib.figure.Figure at 0x1072c9fd0>"
       ]
      }
     ],
     "prompt_number": 4
    },
    {
     "cell_type": "code",
     "collapsed": false,
     "input": [
      "# Initialize container variables with a slot for each label\n",
      "num_classes = 5\n",
      "num_pixels = data[0].shape[0]\n",
      "num_colors = data[0].shape[1]\n",
      "\n",
      "N = np.zeros((num_pixels, num_classes))\n",
      "M_indices = np.zeros((num_pixels, num_classes))\n",
      "for i in range(num_pixels):\n",
      "    for j in range(num_classes):\n",
      "        M_indices[i, j] = i*num_classes + j\n",
      "Z_indices = np.copy(M_indices)\n",
      "M = {x: np.zeros(num_colors) for x in range(num_pixels * num_classes)}\n",
      "Z = {x: np.zeros((num_colors, num_colors)) for x in range(num_pixels * num_classes)}\n",
      "\n",
      "# Define parameters for initialization\n",
      "weights = (1 / float(num_classes)) * np.ones((num_pixels, num_classes))\n",
      "parameter_indices = np.copy(M_indices)\n",
      "parameters = {x: {'mean': np.zeros(num_colors),\n",
      "                  'covariance': np.zeros((num_colors, num_colors))} for x in range(num_pixels * num_classes)}\n",
      "\n",
      "# Define list of labels for each pixel\n",
      "label_indices = np.zeros(num_pixels)\n",
      "for i in range(num_pixels):\n",
      "    label_indices[i] = i\n",
      "labels = {x: [0] for x in range(num_pixels)}\n",
      "\n",
      "# Set likelihood and normalized_likelihood to weights for now\n",
      "likelihood = weights\n",
      "normalized_likelihood = weights\n",
      "\n",
      "# Define constants for background fraction and decay rate\n",
      "background_fraction = 0.7"
     ],
     "language": "python",
     "metadata": {},
     "outputs": [],
     "prompt_number": 5
    },
    {
     "cell_type": "code",
     "collapsed": false,
     "input": [
      "# For each pixel, search through the video sequence for the minimum and maximum datapoints\n",
      "# and perform random initializations\n",
      "def initialize_parameters(index):\n",
      "    current_pixel = index // num_classes\n",
      "    current_class = index % num_classes\n",
      "    minimum_pixel_values = np.array((np.min(data[:, current_pixel, 0]),\n",
      "                                     np.min(data[:, current_pixel, 1]),\n",
      "                                     np.min(data[:, current_pixel, 2])))\n",
      "    maximum_pixel_values = np.array((np.max(data[:, current_pixel, 0]),\n",
      "                                     np.max(data[:, current_pixel, 1]),\n",
      "                                     np.max(data[:, current_pixel, 2])))\n",
      "    parameters[index]['mean'] = minimum_pixel_values + \\\n",
      "                                np.random.random() * (maximum_pixel_values - minimum_pixel_values)\n",
      "    parameters[index]['covariance'] = np.diag(np.square(maximum_pixel_values - minimum_pixel_values)) * \\\n",
      "                                      np.random.random(3)\n",
      "\n",
      "np.vectorize(initialize_parameters)(parameter_indices)"
     ],
     "language": "python",
     "metadata": {},
     "outputs": [
      {
       "metadata": {},
       "output_type": "pyout",
       "prompt_number": 6,
       "text": [
        "array([[None, None, None, None, None],\n",
        "       [None, None, None, None, None],\n",
        "       [None, None, None, None, None],\n",
        "       ..., \n",
        "       [None, None, None, None, None],\n",
        "       [None, None, None, None, None],\n",
        "       [None, None, None, None, None]], dtype=object)"
       ]
      }
     ],
     "prompt_number": 6
    },
    {
     "cell_type": "code",
     "collapsed": false,
     "input": [
      "# Perform initialization of sufficient statistics using prior k = 3\n",
      "k = 3\n",
      "N = k * weights\n",
      "def initialize_sufficient_statistics(index):\n",
      "    current_pixel = index / num_classes\n",
      "    current_class = index % num_classes\n",
      "    current_weight = weights[current_pixel, current_class]\n",
      "    mean = parameters[index]['mean']\n",
      "    covariance = parameters[index]['covariance']\n",
      "    M[index] = k * current_weight * mean\n",
      "    Z[index] = k * current_weight * (covariance + np.outer(mean, mean))\n",
      "    \n",
      "np.vectorize(initialize_sufficient_statistics)(M_indices)"
     ],
     "language": "python",
     "metadata": {},
     "outputs": [
      {
       "metadata": {},
       "output_type": "pyout",
       "prompt_number": 7,
       "text": [
        "array([[None, None, None, None, None],\n",
        "       [None, None, None, None, None],\n",
        "       [None, None, None, None, None],\n",
        "       ..., \n",
        "       [None, None, None, None, None],\n",
        "       [None, None, None, None, None],\n",
        "       [None, None, None, None, None]], dtype=object)"
       ]
      }
     ],
     "prompt_number": 7
    },
    {
     "cell_type": "code",
     "collapsed": false,
     "input": [
      "def update_label_sg():\n",
      "    \"\"\"For each pixel, sort the distributions by their ratios\n",
      "    (weight / norm of the covariance matrix). Account for the first T fraction \n",
      "    as the background. If the closest assignment was not one of these Gaussians,\n",
      "    then label as foreground, else consider as background.\"\"\"\n",
      "    for current_pixel in range(num_pixels):\n",
      "        pixel_weights = weights[current_pixel]\n",
      "        covariance_matrices = \\\n",
      "            [parameters[current_pixel*num_classes + x]['covariance'] for x in range(num_classes)]\n",
      "        ratios = [(pixel_weights[i] / np.linalg.norm(covariance_matrices[i]), i) for i in range(num_classes)]\n",
      "        ratios = sorted(ratios, key=lambda x: x[0], reverse=True)\n",
      "        weight_sum, background_index = 0, 0\n",
      "        for i in range(num_classes):\n",
      "            background_index = i + 1\n",
      "            weight_sum += pixel_weights[ratios[i][1]]\n",
      "            if weight_sum >= background_fraction:\n",
      "                break\n",
      "        background_classes = map(lambda x: x[1], ratios[:background_index])\n",
      "        foreground_classes = map(lambda x: x[1], ratios[background_index:])\n",
      "        # if np.argmax(normalized_likelihood[current_pixel]) in foreground_classes:\n",
      "        #     labels[current_pixel].append(1)\n",
      "        # else:\n",
      "        #     labels[current_pixel].append(0)\n",
      "        \n",
      "        background_likelihood = sum(map(lambda x: normalized_likelihood[current_pixel][x], background_classes))\n",
      "        foreground_likelihood = sum(map(lambda x: normalized_likelihood[current_pixel][x], foreground_classes))\n",
      "        # if foreground_likelihood > background_likelihood:\n",
      "        #     labels[current_pixel].append(foreground_likelihood)\n",
      "        # else:\n",
      "        #     labels[current_pixel].append(background_likelihood)\n",
      "        sigmoid_likelihood = sigmoid(foreground_likelihood / background_likelihood)\n",
      "        labels[current_pixel].append(sigmoid_likelihood)\n",
      "\n",
      "def compute_likelihood(index):\n",
      "    \"\"\"Compute the likelihood P[I_x = k | theta] directly from the\n",
      "    weighted multivariate Gaussian pdf.\n",
      "    \"\"\"\n",
      "    mean = parameters[index]['mean']\n",
      "    covariance = parameters[index]['covariance']\n",
      "    current_weight = weights[index / num_classes, index % num_classes]\n",
      "    distribution = multivariate_normal(mean, covariance, allow_singular=True)\n",
      "    pixel_intensity = data[t, index / num_classes]\n",
      "    return current_weight * distribution.pdf(pixel_intensity)\n",
      "\n",
      "def compute_likelihood_MM(index):\n",
      "    \"\"\"For each pixel, compute the likelihood P[I_x = k | I_{x-1} = k', theta]\n",
      "    by marginalizing the expression P[I_x = k | I_{x-1} = k'] P[I_{x-1} = k' | theta]\n",
      "    over all classes k'. The first component is computed using a Markov model with\n",
      "    transition matrix [[0.8, 0.1, 0.1],\n",
      "                       [0.1, 0.8, 0.1],\n",
      "                       [0.1, 0.1, 0.8]].\n",
      "    The second component is just the pdf of the class' multivariate Gaussian\n",
      "    weighted by its prior probability.\n",
      "    \"\"\"\n",
      "    # transition_matrix = np.array([[0.8, 0.1, 0.1],\n",
      "    #                               [0.1, 0.8, 0.1],\n",
      "    #                               [0.1, 0.1, 0.8]])\n",
      "    transition_matrix = 0.6 * np.eye(num_classes)\n",
      "    transition_matrix[np.where(transition_matrix == 0)] = (0.4 / (num_classes - 1))\n",
      "    current_pixel = index / num_classes\n",
      "    current_class = index % num_classes\n",
      "    current_class_prior = 0\n",
      "    for previous_class in range(num_classes):\n",
      "        transition_probability = transition_matrix[previous_class, current_class]\n",
      "        previous_class_likelihood = normalized_likelihood[current_pixel, previous_class]\n",
      "        current_class_prior += transition_probability * previous_class_likelihood\n",
      "    current_class_likelihood = compute_likelihood(index)\n",
      "    return current_class_prior * current_class_likelihood\n",
      "\n",
      "def update_M(likelihood, index):\n",
      "    pixel_intensity = data[t, index / num_classes]\n",
      "    M[index] += pixel_intensity * likelihood\n",
      "    \n",
      "def update_Z(likelihood, index):\n",
      "    pixel_intensity = data[t, index / num_classes]\n",
      "    Z[index] += np.outer(pixel_intensity, pixel_intensity) * likelihood\n",
      "    \n",
      "def update_mean_covariance(likelihood, index):\n",
      "    current_pixel = index / num_classes\n",
      "    current_class = index % num_classes\n",
      "    num_objects_so_far = N[current_pixel, current_class]\n",
      "    if num_objects_so_far != 0:\n",
      "        weights[current_pixel, current_class] = num_objects_so_far / np.sum(N[current_pixel])\n",
      "        mean = M[index] / num_objects_so_far\n",
      "        parameters[index]['mean'] = mean\n",
      "        parameters[index]['covariance'] = Z[index] / num_objects_so_far - np.outer(mean, mean)\n",
      "\n",
      "def update_label(likelihood, index):\n",
      "    current_pixel = index // num_classes\n",
      "    current_class = index % num_classes\n",
      "    if np.max(normalized_likelihood[current_pixel]) == likelihood:\n",
      "        labels[current_pixel].append(current_class)"
     ],
     "language": "python",
     "metadata": {},
     "outputs": [],
     "prompt_number": 8
    },
    {
     "cell_type": "code",
     "collapsed": false,
     "input": [
      "for t in range(data.shape[0]):\n",
      "    # likelihood = np.vectorize(compute_likelihood, cache=True)(parameter_indices)\n",
      "    likelihood = np.vectorize(compute_likelihood_MM, cache=True)(parameter_indices)\n",
      "    normalized_likelihood = np.apply_along_axis(lambda x: x / np.sum(x), 1, likelihood)\n",
      "    # Account for divide by zero due to uniform zero probability\n",
      "    normalized_likelihood[np.isnan(normalized_likelihood)] = 1 / 3.\n",
      "    update_label_sg()\n",
      "    # np.vectorize(update_label, cache=True)(normalized_likelihood, parameter_indices) \n",
      "\n",
      "    N += normalized_likelihood\n",
      "    np.vectorize(update_M, cache=True)(normalized_likelihood, M_indices)\n",
      "    np.vectorize(update_Z, cache=True)(normalized_likelihood, Z_indices)\n",
      "    np.vectorize(update_mean_covariance, cache=True)(normalized_likelihood, parameter_indices)\n",
      "    # np.vectorize(update_label, cache=True)(normalized_likelihood, parameter_indices)    \n",
      "    print t"
     ],
     "language": "python",
     "metadata": {},
     "outputs": [
      {
       "output_type": "stream",
       "stream": "stdout",
       "text": [
        "0\n",
        "1"
       ]
      },
      {
       "output_type": "stream",
       "stream": "stdout",
       "text": [
        "\n",
        "2"
       ]
      },
      {
       "output_type": "stream",
       "stream": "stdout",
       "text": [
        "\n",
        "3"
       ]
      },
      {
       "output_type": "stream",
       "stream": "stdout",
       "text": [
        "\n",
        "4"
       ]
      },
      {
       "output_type": "stream",
       "stream": "stdout",
       "text": [
        "\n",
        "5"
       ]
      },
      {
       "output_type": "stream",
       "stream": "stdout",
       "text": [
        "\n",
        "6"
       ]
      },
      {
       "output_type": "stream",
       "stream": "stdout",
       "text": [
        "\n",
        "7"
       ]
      },
      {
       "output_type": "stream",
       "stream": "stdout",
       "text": [
        "\n",
        "8"
       ]
      },
      {
       "output_type": "stream",
       "stream": "stdout",
       "text": [
        "\n",
        "9"
       ]
      },
      {
       "output_type": "stream",
       "stream": "stdout",
       "text": [
        "\n",
        "10"
       ]
      },
      {
       "output_type": "stream",
       "stream": "stdout",
       "text": [
        "\n",
        "11"
       ]
      },
      {
       "output_type": "stream",
       "stream": "stdout",
       "text": [
        "\n",
        "12"
       ]
      },
      {
       "output_type": "stream",
       "stream": "stdout",
       "text": [
        "\n",
        "13"
       ]
      },
      {
       "output_type": "stream",
       "stream": "stdout",
       "text": [
        "\n",
        "14"
       ]
      },
      {
       "output_type": "stream",
       "stream": "stdout",
       "text": [
        "\n",
        "15"
       ]
      },
      {
       "output_type": "stream",
       "stream": "stdout",
       "text": [
        "\n",
        "16"
       ]
      },
      {
       "output_type": "stream",
       "stream": "stdout",
       "text": [
        "\n",
        "17"
       ]
      },
      {
       "output_type": "stream",
       "stream": "stdout",
       "text": [
        "\n",
        "18"
       ]
      },
      {
       "output_type": "stream",
       "stream": "stdout",
       "text": [
        "\n",
        "19"
       ]
      },
      {
       "output_type": "stream",
       "stream": "stdout",
       "text": [
        "\n",
        "20"
       ]
      },
      {
       "output_type": "stream",
       "stream": "stdout",
       "text": [
        "\n",
        "21"
       ]
      },
      {
       "output_type": "stream",
       "stream": "stdout",
       "text": [
        "\n",
        "22"
       ]
      },
      {
       "output_type": "stream",
       "stream": "stdout",
       "text": [
        "\n",
        "23"
       ]
      },
      {
       "output_type": "stream",
       "stream": "stdout",
       "text": [
        "\n",
        "24"
       ]
      },
      {
       "output_type": "stream",
       "stream": "stdout",
       "text": [
        "\n",
        "25"
       ]
      },
      {
       "output_type": "stream",
       "stream": "stdout",
       "text": [
        "\n",
        "26"
       ]
      },
      {
       "output_type": "stream",
       "stream": "stdout",
       "text": [
        "\n",
        "27"
       ]
      },
      {
       "output_type": "stream",
       "stream": "stdout",
       "text": [
        "\n",
        "28"
       ]
      },
      {
       "output_type": "stream",
       "stream": "stdout",
       "text": [
        "\n",
        "29"
       ]
      },
      {
       "output_type": "stream",
       "stream": "stdout",
       "text": [
        "\n",
        "30"
       ]
      },
      {
       "output_type": "stream",
       "stream": "stdout",
       "text": [
        "\n",
        "31"
       ]
      },
      {
       "output_type": "stream",
       "stream": "stdout",
       "text": [
        "\n",
        "32"
       ]
      },
      {
       "output_type": "stream",
       "stream": "stdout",
       "text": [
        "\n",
        "33"
       ]
      },
      {
       "output_type": "stream",
       "stream": "stdout",
       "text": [
        "\n",
        "34"
       ]
      },
      {
       "output_type": "stream",
       "stream": "stdout",
       "text": [
        "\n",
        "35"
       ]
      },
      {
       "output_type": "stream",
       "stream": "stdout",
       "text": [
        "\n",
        "36"
       ]
      },
      {
       "output_type": "stream",
       "stream": "stdout",
       "text": [
        "\n",
        "37"
       ]
      },
      {
       "output_type": "stream",
       "stream": "stdout",
       "text": [
        "\n",
        "38"
       ]
      },
      {
       "output_type": "stream",
       "stream": "stdout",
       "text": [
        "\n",
        "39"
       ]
      },
      {
       "output_type": "stream",
       "stream": "stdout",
       "text": [
        "\n",
        "40"
       ]
      },
      {
       "output_type": "stream",
       "stream": "stdout",
       "text": [
        "\n",
        "41"
       ]
      },
      {
       "output_type": "stream",
       "stream": "stdout",
       "text": [
        "\n",
        "42"
       ]
      },
      {
       "output_type": "stream",
       "stream": "stdout",
       "text": [
        "\n",
        "43"
       ]
      },
      {
       "output_type": "stream",
       "stream": "stdout",
       "text": [
        "\n",
        "44"
       ]
      },
      {
       "output_type": "stream",
       "stream": "stdout",
       "text": [
        "\n",
        "45"
       ]
      },
      {
       "output_type": "stream",
       "stream": "stdout",
       "text": [
        "\n",
        "46"
       ]
      },
      {
       "output_type": "stream",
       "stream": "stdout",
       "text": [
        "\n",
        "47"
       ]
      },
      {
       "output_type": "stream",
       "stream": "stdout",
       "text": [
        "\n",
        "48"
       ]
      },
      {
       "output_type": "stream",
       "stream": "stdout",
       "text": [
        "\n",
        "49"
       ]
      },
      {
       "output_type": "stream",
       "stream": "stdout",
       "text": [
        "\n",
        "50"
       ]
      },
      {
       "output_type": "stream",
       "stream": "stdout",
       "text": [
        "\n",
        "51"
       ]
      },
      {
       "output_type": "stream",
       "stream": "stdout",
       "text": [
        "\n",
        "52"
       ]
      },
      {
       "output_type": "stream",
       "stream": "stdout",
       "text": [
        "\n",
        "53"
       ]
      },
      {
       "output_type": "stream",
       "stream": "stdout",
       "text": [
        "\n",
        "54"
       ]
      },
      {
       "output_type": "stream",
       "stream": "stdout",
       "text": [
        "\n",
        "55"
       ]
      },
      {
       "output_type": "stream",
       "stream": "stdout",
       "text": [
        "\n",
        "56"
       ]
      },
      {
       "output_type": "stream",
       "stream": "stdout",
       "text": [
        "\n",
        "57"
       ]
      },
      {
       "output_type": "stream",
       "stream": "stdout",
       "text": [
        "\n",
        "58"
       ]
      },
      {
       "output_type": "stream",
       "stream": "stdout",
       "text": [
        "\n",
        "59"
       ]
      },
      {
       "output_type": "stream",
       "stream": "stdout",
       "text": [
        "\n",
        "60"
       ]
      },
      {
       "output_type": "stream",
       "stream": "stdout",
       "text": [
        "\n",
        "61"
       ]
      },
      {
       "output_type": "stream",
       "stream": "stdout",
       "text": [
        "\n",
        "62"
       ]
      },
      {
       "output_type": "stream",
       "stream": "stdout",
       "text": [
        "\n",
        "63"
       ]
      },
      {
       "output_type": "stream",
       "stream": "stdout",
       "text": [
        "\n",
        "64"
       ]
      },
      {
       "output_type": "stream",
       "stream": "stdout",
       "text": [
        "\n",
        "65"
       ]
      },
      {
       "output_type": "stream",
       "stream": "stdout",
       "text": [
        "\n",
        "66"
       ]
      },
      {
       "output_type": "stream",
       "stream": "stdout",
       "text": [
        "\n",
        "67"
       ]
      },
      {
       "output_type": "stream",
       "stream": "stdout",
       "text": [
        "\n",
        "68"
       ]
      },
      {
       "output_type": "stream",
       "stream": "stdout",
       "text": [
        "\n",
        "69"
       ]
      },
      {
       "output_type": "stream",
       "stream": "stdout",
       "text": [
        "\n",
        "70"
       ]
      },
      {
       "output_type": "stream",
       "stream": "stdout",
       "text": [
        "\n",
        "71"
       ]
      },
      {
       "output_type": "stream",
       "stream": "stdout",
       "text": [
        "\n",
        "72"
       ]
      },
      {
       "output_type": "stream",
       "stream": "stdout",
       "text": [
        "\n",
        "73"
       ]
      },
      {
       "output_type": "stream",
       "stream": "stdout",
       "text": [
        "\n",
        "74"
       ]
      },
      {
       "output_type": "stream",
       "stream": "stdout",
       "text": [
        "\n",
        "75"
       ]
      },
      {
       "output_type": "stream",
       "stream": "stdout",
       "text": [
        "\n",
        "76"
       ]
      },
      {
       "output_type": "stream",
       "stream": "stdout",
       "text": [
        "\n",
        "77"
       ]
      },
      {
       "output_type": "stream",
       "stream": "stdout",
       "text": [
        "\n",
        "78"
       ]
      },
      {
       "output_type": "stream",
       "stream": "stdout",
       "text": [
        "\n",
        "79"
       ]
      },
      {
       "output_type": "stream",
       "stream": "stdout",
       "text": [
        "\n",
        "80"
       ]
      },
      {
       "output_type": "stream",
       "stream": "stdout",
       "text": [
        "\n",
        "81"
       ]
      },
      {
       "output_type": "stream",
       "stream": "stdout",
       "text": [
        "\n",
        "82"
       ]
      },
      {
       "output_type": "stream",
       "stream": "stdout",
       "text": [
        "\n",
        "83"
       ]
      },
      {
       "output_type": "stream",
       "stream": "stdout",
       "text": [
        "\n",
        "84"
       ]
      },
      {
       "output_type": "stream",
       "stream": "stdout",
       "text": [
        "\n",
        "85"
       ]
      },
      {
       "output_type": "stream",
       "stream": "stdout",
       "text": [
        "\n",
        "86"
       ]
      },
      {
       "output_type": "stream",
       "stream": "stdout",
       "text": [
        "\n",
        "87"
       ]
      },
      {
       "output_type": "stream",
       "stream": "stdout",
       "text": [
        "\n",
        "88"
       ]
      },
      {
       "output_type": "stream",
       "stream": "stdout",
       "text": [
        "\n",
        "89"
       ]
      },
      {
       "output_type": "stream",
       "stream": "stdout",
       "text": [
        "\n",
        "90"
       ]
      },
      {
       "output_type": "stream",
       "stream": "stdout",
       "text": [
        "\n",
        "91"
       ]
      },
      {
       "output_type": "stream",
       "stream": "stdout",
       "text": [
        "\n",
        "92"
       ]
      },
      {
       "output_type": "stream",
       "stream": "stdout",
       "text": [
        "\n",
        "93"
       ]
      },
      {
       "output_type": "stream",
       "stream": "stdout",
       "text": [
        "\n",
        "94"
       ]
      },
      {
       "output_type": "stream",
       "stream": "stdout",
       "text": [
        "\n",
        "95"
       ]
      },
      {
       "output_type": "stream",
       "stream": "stdout",
       "text": [
        "\n",
        "96"
       ]
      },
      {
       "output_type": "stream",
       "stream": "stdout",
       "text": [
        "\n",
        "97"
       ]
      },
      {
       "output_type": "stream",
       "stream": "stdout",
       "text": [
        "\n",
        "98"
       ]
      },
      {
       "output_type": "stream",
       "stream": "stdout",
       "text": [
        "\n",
        "99"
       ]
      },
      {
       "output_type": "stream",
       "stream": "stdout",
       "text": [
        "\n",
        "100"
       ]
      },
      {
       "output_type": "stream",
       "stream": "stdout",
       "text": [
        "\n",
        "101"
       ]
      },
      {
       "output_type": "stream",
       "stream": "stdout",
       "text": [
        "\n",
        "102"
       ]
      },
      {
       "output_type": "stream",
       "stream": "stdout",
       "text": [
        "\n",
        "103"
       ]
      },
      {
       "output_type": "stream",
       "stream": "stdout",
       "text": [
        "\n",
        "104"
       ]
      },
      {
       "output_type": "stream",
       "stream": "stdout",
       "text": [
        "\n",
        "105"
       ]
      },
      {
       "output_type": "stream",
       "stream": "stdout",
       "text": [
        "\n",
        "106"
       ]
      },
      {
       "output_type": "stream",
       "stream": "stdout",
       "text": [
        "\n",
        "107"
       ]
      },
      {
       "output_type": "stream",
       "stream": "stdout",
       "text": [
        "\n",
        "108"
       ]
      },
      {
       "output_type": "stream",
       "stream": "stdout",
       "text": [
        "\n",
        "109"
       ]
      },
      {
       "output_type": "stream",
       "stream": "stdout",
       "text": [
        "\n",
        "110"
       ]
      },
      {
       "output_type": "stream",
       "stream": "stdout",
       "text": [
        "\n",
        "111"
       ]
      },
      {
       "output_type": "stream",
       "stream": "stdout",
       "text": [
        "\n",
        "112"
       ]
      },
      {
       "output_type": "stream",
       "stream": "stdout",
       "text": [
        "\n",
        "113"
       ]
      },
      {
       "output_type": "stream",
       "stream": "stdout",
       "text": [
        "\n",
        "114"
       ]
      },
      {
       "output_type": "stream",
       "stream": "stdout",
       "text": [
        "\n",
        "115"
       ]
      },
      {
       "output_type": "stream",
       "stream": "stdout",
       "text": [
        "\n",
        "116"
       ]
      },
      {
       "output_type": "stream",
       "stream": "stdout",
       "text": [
        "\n",
        "117"
       ]
      },
      {
       "output_type": "stream",
       "stream": "stdout",
       "text": [
        "\n",
        "118"
       ]
      },
      {
       "output_type": "stream",
       "stream": "stdout",
       "text": [
        "\n",
        "119"
       ]
      },
      {
       "output_type": "stream",
       "stream": "stdout",
       "text": [
        "\n",
        "120"
       ]
      },
      {
       "output_type": "stream",
       "stream": "stdout",
       "text": [
        "\n",
        "121"
       ]
      },
      {
       "output_type": "stream",
       "stream": "stdout",
       "text": [
        "\n",
        "122"
       ]
      },
      {
       "output_type": "stream",
       "stream": "stdout",
       "text": [
        "\n",
        "123"
       ]
      },
      {
       "output_type": "stream",
       "stream": "stdout",
       "text": [
        "\n",
        "124"
       ]
      },
      {
       "output_type": "stream",
       "stream": "stdout",
       "text": [
        "\n",
        "125"
       ]
      },
      {
       "output_type": "stream",
       "stream": "stdout",
       "text": [
        "\n",
        "126"
       ]
      },
      {
       "output_type": "stream",
       "stream": "stdout",
       "text": [
        "\n",
        "127"
       ]
      },
      {
       "output_type": "stream",
       "stream": "stdout",
       "text": [
        "\n",
        "128"
       ]
      },
      {
       "output_type": "stream",
       "stream": "stdout",
       "text": [
        "\n",
        "129"
       ]
      },
      {
       "output_type": "stream",
       "stream": "stdout",
       "text": [
        "\n",
        "130"
       ]
      },
      {
       "output_type": "stream",
       "stream": "stdout",
       "text": [
        "\n",
        "131"
       ]
      },
      {
       "output_type": "stream",
       "stream": "stdout",
       "text": [
        "\n",
        "132"
       ]
      },
      {
       "output_type": "stream",
       "stream": "stdout",
       "text": [
        "\n",
        "133"
       ]
      },
      {
       "output_type": "stream",
       "stream": "stdout",
       "text": [
        "\n",
        "134"
       ]
      },
      {
       "output_type": "stream",
       "stream": "stdout",
       "text": [
        "\n",
        "135"
       ]
      },
      {
       "output_type": "stream",
       "stream": "stdout",
       "text": [
        "\n",
        "136"
       ]
      },
      {
       "output_type": "stream",
       "stream": "stdout",
       "text": [
        "\n",
        "137"
       ]
      },
      {
       "output_type": "stream",
       "stream": "stdout",
       "text": [
        "\n",
        "138"
       ]
      },
      {
       "output_type": "stream",
       "stream": "stdout",
       "text": [
        "\n",
        "139"
       ]
      },
      {
       "output_type": "stream",
       "stream": "stdout",
       "text": [
        "\n",
        "140"
       ]
      },
      {
       "output_type": "stream",
       "stream": "stdout",
       "text": [
        "\n",
        "141"
       ]
      },
      {
       "output_type": "stream",
       "stream": "stdout",
       "text": [
        "\n",
        "142"
       ]
      },
      {
       "output_type": "stream",
       "stream": "stdout",
       "text": [
        "\n",
        "143"
       ]
      },
      {
       "output_type": "stream",
       "stream": "stdout",
       "text": [
        "\n",
        "144"
       ]
      },
      {
       "output_type": "stream",
       "stream": "stdout",
       "text": [
        "\n",
        "145"
       ]
      },
      {
       "output_type": "stream",
       "stream": "stdout",
       "text": [
        "\n",
        "146"
       ]
      },
      {
       "output_type": "stream",
       "stream": "stdout",
       "text": [
        "\n",
        "147"
       ]
      },
      {
       "output_type": "stream",
       "stream": "stdout",
       "text": [
        "\n",
        "148"
       ]
      },
      {
       "output_type": "stream",
       "stream": "stdout",
       "text": [
        "\n",
        "149"
       ]
      },
      {
       "output_type": "stream",
       "stream": "stdout",
       "text": [
        "\n",
        "150"
       ]
      },
      {
       "output_type": "stream",
       "stream": "stdout",
       "text": [
        "\n",
        "151"
       ]
      },
      {
       "output_type": "stream",
       "stream": "stdout",
       "text": [
        "\n",
        "152"
       ]
      },
      {
       "output_type": "stream",
       "stream": "stdout",
       "text": [
        "\n",
        "153"
       ]
      },
      {
       "output_type": "stream",
       "stream": "stdout",
       "text": [
        "\n",
        "154"
       ]
      },
      {
       "output_type": "stream",
       "stream": "stdout",
       "text": [
        "\n",
        "155"
       ]
      },
      {
       "output_type": "stream",
       "stream": "stdout",
       "text": [
        "\n",
        "156"
       ]
      },
      {
       "output_type": "stream",
       "stream": "stdout",
       "text": [
        "\n",
        "157"
       ]
      },
      {
       "output_type": "stream",
       "stream": "stdout",
       "text": [
        "\n",
        "158"
       ]
      },
      {
       "output_type": "stream",
       "stream": "stdout",
       "text": [
        "\n",
        "159"
       ]
      },
      {
       "output_type": "stream",
       "stream": "stdout",
       "text": [
        "\n",
        "160"
       ]
      },
      {
       "output_type": "stream",
       "stream": "stdout",
       "text": [
        "\n",
        "161"
       ]
      },
      {
       "output_type": "stream",
       "stream": "stdout",
       "text": [
        "\n",
        "162"
       ]
      },
      {
       "output_type": "stream",
       "stream": "stdout",
       "text": [
        "\n",
        "163"
       ]
      },
      {
       "output_type": "stream",
       "stream": "stdout",
       "text": [
        "\n",
        "164"
       ]
      },
      {
       "output_type": "stream",
       "stream": "stdout",
       "text": [
        "\n",
        "165"
       ]
      },
      {
       "output_type": "stream",
       "stream": "stdout",
       "text": [
        "\n",
        "166"
       ]
      },
      {
       "output_type": "stream",
       "stream": "stdout",
       "text": [
        "\n",
        "167"
       ]
      },
      {
       "output_type": "stream",
       "stream": "stdout",
       "text": [
        "\n",
        "168"
       ]
      },
      {
       "output_type": "stream",
       "stream": "stdout",
       "text": [
        "\n",
        "169"
       ]
      },
      {
       "output_type": "stream",
       "stream": "stdout",
       "text": [
        "\n",
        "170"
       ]
      },
      {
       "output_type": "stream",
       "stream": "stdout",
       "text": [
        "\n",
        "171"
       ]
      },
      {
       "output_type": "stream",
       "stream": "stdout",
       "text": [
        "\n",
        "172"
       ]
      },
      {
       "output_type": "stream",
       "stream": "stdout",
       "text": [
        "\n",
        "173"
       ]
      },
      {
       "output_type": "stream",
       "stream": "stdout",
       "text": [
        "\n",
        "174"
       ]
      },
      {
       "output_type": "stream",
       "stream": "stdout",
       "text": [
        "\n",
        "175"
       ]
      },
      {
       "output_type": "stream",
       "stream": "stdout",
       "text": [
        "\n",
        "176"
       ]
      },
      {
       "output_type": "stream",
       "stream": "stdout",
       "text": [
        "\n",
        "177"
       ]
      },
      {
       "output_type": "stream",
       "stream": "stdout",
       "text": [
        "\n",
        "178"
       ]
      },
      {
       "output_type": "stream",
       "stream": "stdout",
       "text": [
        "\n",
        "179"
       ]
      },
      {
       "output_type": "stream",
       "stream": "stdout",
       "text": [
        "\n",
        "180"
       ]
      },
      {
       "output_type": "stream",
       "stream": "stdout",
       "text": [
        "\n",
        "181"
       ]
      },
      {
       "output_type": "stream",
       "stream": "stdout",
       "text": [
        "\n",
        "182"
       ]
      },
      {
       "output_type": "stream",
       "stream": "stdout",
       "text": [
        "\n",
        "183"
       ]
      },
      {
       "output_type": "stream",
       "stream": "stdout",
       "text": [
        "\n",
        "184"
       ]
      },
      {
       "output_type": "stream",
       "stream": "stdout",
       "text": [
        "\n",
        "185"
       ]
      },
      {
       "output_type": "stream",
       "stream": "stdout",
       "text": [
        "\n",
        "186"
       ]
      },
      {
       "output_type": "stream",
       "stream": "stdout",
       "text": [
        "\n",
        "187"
       ]
      },
      {
       "output_type": "stream",
       "stream": "stdout",
       "text": [
        "\n",
        "188"
       ]
      },
      {
       "output_type": "stream",
       "stream": "stdout",
       "text": [
        "\n",
        "189"
       ]
      },
      {
       "output_type": "stream",
       "stream": "stdout",
       "text": [
        "\n",
        "190"
       ]
      },
      {
       "output_type": "stream",
       "stream": "stdout",
       "text": [
        "\n",
        "191"
       ]
      },
      {
       "output_type": "stream",
       "stream": "stdout",
       "text": [
        "\n",
        "192"
       ]
      },
      {
       "output_type": "stream",
       "stream": "stdout",
       "text": [
        "\n",
        "193"
       ]
      },
      {
       "output_type": "stream",
       "stream": "stdout",
       "text": [
        "\n",
        "194"
       ]
      },
      {
       "output_type": "stream",
       "stream": "stdout",
       "text": [
        "\n",
        "195"
       ]
      },
      {
       "output_type": "stream",
       "stream": "stdout",
       "text": [
        "\n",
        "196"
       ]
      },
      {
       "output_type": "stream",
       "stream": "stdout",
       "text": [
        "\n",
        "197"
       ]
      },
      {
       "output_type": "stream",
       "stream": "stdout",
       "text": [
        "\n",
        "198"
       ]
      },
      {
       "output_type": "stream",
       "stream": "stdout",
       "text": [
        "\n",
        "199"
       ]
      },
      {
       "output_type": "stream",
       "stream": "stdout",
       "text": [
        "\n",
        "200"
       ]
      },
      {
       "output_type": "stream",
       "stream": "stdout",
       "text": [
        "\n",
        "201"
       ]
      },
      {
       "output_type": "stream",
       "stream": "stdout",
       "text": [
        "\n",
        "202"
       ]
      },
      {
       "output_type": "stream",
       "stream": "stdout",
       "text": [
        "\n",
        "203"
       ]
      },
      {
       "output_type": "stream",
       "stream": "stdout",
       "text": [
        "\n",
        "204"
       ]
      },
      {
       "output_type": "stream",
       "stream": "stdout",
       "text": [
        "\n",
        "205"
       ]
      },
      {
       "output_type": "stream",
       "stream": "stdout",
       "text": [
        "\n",
        "206"
       ]
      },
      {
       "output_type": "stream",
       "stream": "stdout",
       "text": [
        "\n",
        "207"
       ]
      },
      {
       "output_type": "stream",
       "stream": "stdout",
       "text": [
        "\n",
        "208"
       ]
      },
      {
       "output_type": "stream",
       "stream": "stdout",
       "text": [
        "\n",
        "209"
       ]
      },
      {
       "output_type": "stream",
       "stream": "stdout",
       "text": [
        "\n",
        "210"
       ]
      },
      {
       "output_type": "stream",
       "stream": "stdout",
       "text": [
        "\n",
        "211"
       ]
      },
      {
       "output_type": "stream",
       "stream": "stdout",
       "text": [
        "\n",
        "212"
       ]
      },
      {
       "output_type": "stream",
       "stream": "stdout",
       "text": [
        "\n",
        "213"
       ]
      },
      {
       "output_type": "stream",
       "stream": "stdout",
       "text": [
        "\n",
        "214"
       ]
      },
      {
       "output_type": "stream",
       "stream": "stdout",
       "text": [
        "\n",
        "215"
       ]
      },
      {
       "output_type": "stream",
       "stream": "stdout",
       "text": [
        "\n",
        "216"
       ]
      },
      {
       "output_type": "stream",
       "stream": "stdout",
       "text": [
        "\n",
        "217"
       ]
      },
      {
       "output_type": "stream",
       "stream": "stdout",
       "text": [
        "\n",
        "218"
       ]
      },
      {
       "output_type": "stream",
       "stream": "stdout",
       "text": [
        "\n",
        "219"
       ]
      },
      {
       "output_type": "stream",
       "stream": "stdout",
       "text": [
        "\n",
        "220"
       ]
      },
      {
       "output_type": "stream",
       "stream": "stdout",
       "text": [
        "\n",
        "221"
       ]
      },
      {
       "output_type": "stream",
       "stream": "stdout",
       "text": [
        "\n",
        "222"
       ]
      },
      {
       "output_type": "stream",
       "stream": "stdout",
       "text": [
        "\n",
        "223"
       ]
      },
      {
       "output_type": "stream",
       "stream": "stdout",
       "text": [
        "\n",
        "224"
       ]
      },
      {
       "output_type": "stream",
       "stream": "stdout",
       "text": [
        "\n",
        "225"
       ]
      },
      {
       "output_type": "stream",
       "stream": "stdout",
       "text": [
        "\n",
        "226"
       ]
      },
      {
       "output_type": "stream",
       "stream": "stdout",
       "text": [
        "\n",
        "227"
       ]
      },
      {
       "output_type": "stream",
       "stream": "stdout",
       "text": [
        "\n",
        "228"
       ]
      },
      {
       "output_type": "stream",
       "stream": "stdout",
       "text": [
        "\n",
        "229"
       ]
      },
      {
       "output_type": "stream",
       "stream": "stdout",
       "text": [
        "\n",
        "230"
       ]
      },
      {
       "output_type": "stream",
       "stream": "stdout",
       "text": [
        "\n",
        "231"
       ]
      },
      {
       "output_type": "stream",
       "stream": "stdout",
       "text": [
        "\n",
        "232"
       ]
      },
      {
       "output_type": "stream",
       "stream": "stdout",
       "text": [
        "\n",
        "233"
       ]
      },
      {
       "output_type": "stream",
       "stream": "stdout",
       "text": [
        "\n",
        "234"
       ]
      },
      {
       "output_type": "stream",
       "stream": "stdout",
       "text": [
        "\n",
        "235"
       ]
      },
      {
       "output_type": "stream",
       "stream": "stdout",
       "text": [
        "\n",
        "236"
       ]
      },
      {
       "output_type": "stream",
       "stream": "stdout",
       "text": [
        "\n",
        "237"
       ]
      },
      {
       "output_type": "stream",
       "stream": "stdout",
       "text": [
        "\n",
        "238"
       ]
      },
      {
       "output_type": "stream",
       "stream": "stdout",
       "text": [
        "\n",
        "239"
       ]
      },
      {
       "output_type": "stream",
       "stream": "stdout",
       "text": [
        "\n",
        "240"
       ]
      },
      {
       "output_type": "stream",
       "stream": "stdout",
       "text": [
        "\n",
        "241"
       ]
      },
      {
       "output_type": "stream",
       "stream": "stdout",
       "text": [
        "\n",
        "242"
       ]
      },
      {
       "output_type": "stream",
       "stream": "stdout",
       "text": [
        "\n",
        "243"
       ]
      },
      {
       "output_type": "stream",
       "stream": "stdout",
       "text": [
        "\n",
        "244"
       ]
      },
      {
       "output_type": "stream",
       "stream": "stdout",
       "text": [
        "\n",
        "245"
       ]
      },
      {
       "output_type": "stream",
       "stream": "stdout",
       "text": [
        "\n",
        "246"
       ]
      },
      {
       "output_type": "stream",
       "stream": "stdout",
       "text": [
        "\n",
        "247"
       ]
      },
      {
       "output_type": "stream",
       "stream": "stdout",
       "text": [
        "\n",
        "248"
       ]
      },
      {
       "output_type": "stream",
       "stream": "stdout",
       "text": [
        "\n",
        "249"
       ]
      },
      {
       "output_type": "stream",
       "stream": "stdout",
       "text": [
        "\n",
        "250"
       ]
      },
      {
       "output_type": "stream",
       "stream": "stdout",
       "text": [
        "\n",
        "251"
       ]
      },
      {
       "output_type": "stream",
       "stream": "stdout",
       "text": [
        "\n",
        "252"
       ]
      },
      {
       "output_type": "stream",
       "stream": "stdout",
       "text": [
        "\n",
        "253"
       ]
      },
      {
       "output_type": "stream",
       "stream": "stdout",
       "text": [
        "\n",
        "254"
       ]
      },
      {
       "output_type": "stream",
       "stream": "stdout",
       "text": [
        "\n",
        "255"
       ]
      },
      {
       "output_type": "stream",
       "stream": "stdout",
       "text": [
        "\n",
        "256"
       ]
      },
      {
       "output_type": "stream",
       "stream": "stdout",
       "text": [
        "\n",
        "257"
       ]
      },
      {
       "output_type": "stream",
       "stream": "stdout",
       "text": [
        "\n",
        "258"
       ]
      },
      {
       "output_type": "stream",
       "stream": "stdout",
       "text": [
        "\n",
        "259"
       ]
      },
      {
       "output_type": "stream",
       "stream": "stdout",
       "text": [
        "\n",
        "260"
       ]
      },
      {
       "output_type": "stream",
       "stream": "stdout",
       "text": [
        "\n",
        "261"
       ]
      },
      {
       "output_type": "stream",
       "stream": "stdout",
       "text": [
        "\n",
        "262"
       ]
      },
      {
       "output_type": "stream",
       "stream": "stdout",
       "text": [
        "\n",
        "263"
       ]
      },
      {
       "output_type": "stream",
       "stream": "stdout",
       "text": [
        "\n",
        "264"
       ]
      },
      {
       "output_type": "stream",
       "stream": "stdout",
       "text": [
        "\n",
        "265"
       ]
      },
      {
       "output_type": "stream",
       "stream": "stdout",
       "text": [
        "\n",
        "266"
       ]
      },
      {
       "output_type": "stream",
       "stream": "stdout",
       "text": [
        "\n",
        "267"
       ]
      },
      {
       "output_type": "stream",
       "stream": "stdout",
       "text": [
        "\n",
        "268"
       ]
      },
      {
       "output_type": "stream",
       "stream": "stdout",
       "text": [
        "\n",
        "269"
       ]
      },
      {
       "output_type": "stream",
       "stream": "stdout",
       "text": [
        "\n",
        "270"
       ]
      },
      {
       "output_type": "stream",
       "stream": "stdout",
       "text": [
        "\n",
        "271"
       ]
      },
      {
       "output_type": "stream",
       "stream": "stdout",
       "text": [
        "\n",
        "272"
       ]
      },
      {
       "output_type": "stream",
       "stream": "stdout",
       "text": [
        "\n",
        "273"
       ]
      },
      {
       "output_type": "stream",
       "stream": "stdout",
       "text": [
        "\n",
        "274"
       ]
      },
      {
       "output_type": "stream",
       "stream": "stdout",
       "text": [
        "\n",
        "275"
       ]
      },
      {
       "output_type": "stream",
       "stream": "stdout",
       "text": [
        "\n",
        "276"
       ]
      },
      {
       "output_type": "stream",
       "stream": "stdout",
       "text": [
        "\n",
        "277"
       ]
      },
      {
       "output_type": "stream",
       "stream": "stdout",
       "text": [
        "\n",
        "278"
       ]
      },
      {
       "output_type": "stream",
       "stream": "stdout",
       "text": [
        "\n",
        "279"
       ]
      },
      {
       "output_type": "stream",
       "stream": "stdout",
       "text": [
        "\n",
        "280"
       ]
      },
      {
       "output_type": "stream",
       "stream": "stdout",
       "text": [
        "\n",
        "281"
       ]
      },
      {
       "output_type": "stream",
       "stream": "stdout",
       "text": [
        "\n",
        "282"
       ]
      },
      {
       "output_type": "stream",
       "stream": "stdout",
       "text": [
        "\n",
        "283"
       ]
      },
      {
       "output_type": "stream",
       "stream": "stdout",
       "text": [
        "\n",
        "284"
       ]
      },
      {
       "output_type": "stream",
       "stream": "stdout",
       "text": [
        "\n",
        "285"
       ]
      },
      {
       "output_type": "stream",
       "stream": "stdout",
       "text": [
        "\n",
        "286"
       ]
      },
      {
       "output_type": "stream",
       "stream": "stdout",
       "text": [
        "\n",
        "287"
       ]
      },
      {
       "output_type": "stream",
       "stream": "stdout",
       "text": [
        "\n",
        "288"
       ]
      },
      {
       "output_type": "stream",
       "stream": "stdout",
       "text": [
        "\n",
        "289"
       ]
      },
      {
       "output_type": "stream",
       "stream": "stdout",
       "text": [
        "\n",
        "290"
       ]
      },
      {
       "output_type": "stream",
       "stream": "stdout",
       "text": [
        "\n",
        "291"
       ]
      },
      {
       "output_type": "stream",
       "stream": "stdout",
       "text": [
        "\n",
        "292"
       ]
      },
      {
       "output_type": "stream",
       "stream": "stdout",
       "text": [
        "\n",
        "293"
       ]
      },
      {
       "output_type": "stream",
       "stream": "stdout",
       "text": [
        "\n",
        "294"
       ]
      },
      {
       "output_type": "stream",
       "stream": "stdout",
       "text": [
        "\n",
        "295"
       ]
      },
      {
       "output_type": "stream",
       "stream": "stdout",
       "text": [
        "\n",
        "296"
       ]
      },
      {
       "output_type": "stream",
       "stream": "stdout",
       "text": [
        "\n",
        "297"
       ]
      },
      {
       "output_type": "stream",
       "stream": "stdout",
       "text": [
        "\n",
        "298"
       ]
      },
      {
       "output_type": "stream",
       "stream": "stdout",
       "text": [
        "\n",
        "299"
       ]
      },
      {
       "output_type": "stream",
       "stream": "stdout",
       "text": [
        "\n",
        "300"
       ]
      },
      {
       "output_type": "stream",
       "stream": "stdout",
       "text": [
        "\n",
        "301"
       ]
      },
      {
       "output_type": "stream",
       "stream": "stdout",
       "text": [
        "\n",
        "302"
       ]
      },
      {
       "output_type": "stream",
       "stream": "stdout",
       "text": [
        "\n",
        "303"
       ]
      },
      {
       "output_type": "stream",
       "stream": "stdout",
       "text": [
        "\n",
        "304"
       ]
      },
      {
       "output_type": "stream",
       "stream": "stdout",
       "text": [
        "\n",
        "305"
       ]
      },
      {
       "output_type": "stream",
       "stream": "stdout",
       "text": [
        "\n",
        "306"
       ]
      },
      {
       "output_type": "stream",
       "stream": "stdout",
       "text": [
        "\n",
        "307"
       ]
      },
      {
       "output_type": "stream",
       "stream": "stdout",
       "text": [
        "\n",
        "308"
       ]
      },
      {
       "output_type": "stream",
       "stream": "stdout",
       "text": [
        "\n",
        "309"
       ]
      },
      {
       "output_type": "stream",
       "stream": "stdout",
       "text": [
        "\n",
        "310"
       ]
      },
      {
       "output_type": "stream",
       "stream": "stdout",
       "text": [
        "\n",
        "311"
       ]
      },
      {
       "output_type": "stream",
       "stream": "stdout",
       "text": [
        "\n",
        "312"
       ]
      },
      {
       "output_type": "stream",
       "stream": "stdout",
       "text": [
        "\n",
        "313"
       ]
      },
      {
       "output_type": "stream",
       "stream": "stdout",
       "text": [
        "\n",
        "314"
       ]
      },
      {
       "output_type": "stream",
       "stream": "stdout",
       "text": [
        "\n",
        "315"
       ]
      },
      {
       "output_type": "stream",
       "stream": "stdout",
       "text": [
        "\n",
        "316"
       ]
      },
      {
       "output_type": "stream",
       "stream": "stdout",
       "text": [
        "\n",
        "317"
       ]
      },
      {
       "output_type": "stream",
       "stream": "stdout",
       "text": [
        "\n",
        "318"
       ]
      },
      {
       "output_type": "stream",
       "stream": "stdout",
       "text": [
        "\n",
        "319"
       ]
      },
      {
       "output_type": "stream",
       "stream": "stdout",
       "text": [
        "\n",
        "320"
       ]
      },
      {
       "output_type": "stream",
       "stream": "stdout",
       "text": [
        "\n",
        "321"
       ]
      },
      {
       "output_type": "stream",
       "stream": "stdout",
       "text": [
        "\n",
        "322"
       ]
      },
      {
       "output_type": "stream",
       "stream": "stdout",
       "text": [
        "\n",
        "323"
       ]
      },
      {
       "output_type": "stream",
       "stream": "stdout",
       "text": [
        "\n",
        "324"
       ]
      },
      {
       "output_type": "stream",
       "stream": "stdout",
       "text": [
        "\n",
        "325"
       ]
      },
      {
       "output_type": "stream",
       "stream": "stdout",
       "text": [
        "\n",
        "326"
       ]
      },
      {
       "output_type": "stream",
       "stream": "stdout",
       "text": [
        "\n",
        "327"
       ]
      },
      {
       "output_type": "stream",
       "stream": "stdout",
       "text": [
        "\n",
        "328"
       ]
      },
      {
       "output_type": "stream",
       "stream": "stdout",
       "text": [
        "\n",
        "329"
       ]
      },
      {
       "output_type": "stream",
       "stream": "stdout",
       "text": [
        "\n",
        "330"
       ]
      },
      {
       "output_type": "stream",
       "stream": "stdout",
       "text": [
        "\n",
        "331"
       ]
      },
      {
       "output_type": "stream",
       "stream": "stdout",
       "text": [
        "\n",
        "332"
       ]
      },
      {
       "output_type": "stream",
       "stream": "stdout",
       "text": [
        "\n",
        "333"
       ]
      },
      {
       "output_type": "stream",
       "stream": "stdout",
       "text": [
        "\n",
        "334"
       ]
      },
      {
       "output_type": "stream",
       "stream": "stdout",
       "text": [
        "\n",
        "335"
       ]
      },
      {
       "output_type": "stream",
       "stream": "stdout",
       "text": [
        "\n",
        "336"
       ]
      },
      {
       "output_type": "stream",
       "stream": "stdout",
       "text": [
        "\n",
        "337"
       ]
      },
      {
       "output_type": "stream",
       "stream": "stdout",
       "text": [
        "\n",
        "338"
       ]
      },
      {
       "output_type": "stream",
       "stream": "stdout",
       "text": [
        "\n",
        "339"
       ]
      },
      {
       "output_type": "stream",
       "stream": "stdout",
       "text": [
        "\n",
        "340"
       ]
      },
      {
       "output_type": "stream",
       "stream": "stdout",
       "text": [
        "\n",
        "341"
       ]
      },
      {
       "output_type": "stream",
       "stream": "stdout",
       "text": [
        "\n",
        "342"
       ]
      },
      {
       "output_type": "stream",
       "stream": "stdout",
       "text": [
        "\n",
        "343"
       ]
      },
      {
       "output_type": "stream",
       "stream": "stdout",
       "text": [
        "\n",
        "344"
       ]
      },
      {
       "output_type": "stream",
       "stream": "stdout",
       "text": [
        "\n",
        "345"
       ]
      },
      {
       "output_type": "stream",
       "stream": "stdout",
       "text": [
        "\n",
        "346"
       ]
      },
      {
       "output_type": "stream",
       "stream": "stdout",
       "text": [
        "\n",
        "347"
       ]
      },
      {
       "output_type": "stream",
       "stream": "stdout",
       "text": [
        "\n",
        "348"
       ]
      },
      {
       "output_type": "stream",
       "stream": "stdout",
       "text": [
        "\n",
        "349"
       ]
      },
      {
       "output_type": "stream",
       "stream": "stdout",
       "text": [
        "\n",
        "350"
       ]
      },
      {
       "output_type": "stream",
       "stream": "stdout",
       "text": [
        "\n",
        "351"
       ]
      },
      {
       "output_type": "stream",
       "stream": "stdout",
       "text": [
        "\n",
        "352"
       ]
      },
      {
       "output_type": "stream",
       "stream": "stdout",
       "text": [
        "\n",
        "353"
       ]
      },
      {
       "output_type": "stream",
       "stream": "stdout",
       "text": [
        "\n",
        "354"
       ]
      },
      {
       "output_type": "stream",
       "stream": "stdout",
       "text": [
        "\n",
        "355"
       ]
      },
      {
       "output_type": "stream",
       "stream": "stdout",
       "text": [
        "\n",
        "356"
       ]
      },
      {
       "output_type": "stream",
       "stream": "stdout",
       "text": [
        "\n",
        "357"
       ]
      },
      {
       "output_type": "stream",
       "stream": "stdout",
       "text": [
        "\n",
        "358"
       ]
      },
      {
       "output_type": "stream",
       "stream": "stdout",
       "text": [
        "\n",
        "359"
       ]
      },
      {
       "output_type": "stream",
       "stream": "stdout",
       "text": [
        "\n",
        "360"
       ]
      },
      {
       "output_type": "stream",
       "stream": "stdout",
       "text": [
        "\n",
        "361"
       ]
      },
      {
       "output_type": "stream",
       "stream": "stdout",
       "text": [
        "\n",
        "362"
       ]
      },
      {
       "output_type": "stream",
       "stream": "stdout",
       "text": [
        "\n",
        "363"
       ]
      },
      {
       "output_type": "stream",
       "stream": "stdout",
       "text": [
        "\n",
        "364"
       ]
      },
      {
       "output_type": "stream",
       "stream": "stdout",
       "text": [
        "\n",
        "365"
       ]
      },
      {
       "output_type": "stream",
       "stream": "stdout",
       "text": [
        "\n",
        "366"
       ]
      },
      {
       "output_type": "stream",
       "stream": "stdout",
       "text": [
        "\n",
        "367"
       ]
      },
      {
       "output_type": "stream",
       "stream": "stdout",
       "text": [
        "\n",
        "368"
       ]
      },
      {
       "output_type": "stream",
       "stream": "stdout",
       "text": [
        "\n",
        "369"
       ]
      },
      {
       "output_type": "stream",
       "stream": "stdout",
       "text": [
        "\n",
        "370"
       ]
      },
      {
       "output_type": "stream",
       "stream": "stdout",
       "text": [
        "\n",
        "371"
       ]
      },
      {
       "output_type": "stream",
       "stream": "stdout",
       "text": [
        "\n",
        "372"
       ]
      },
      {
       "output_type": "stream",
       "stream": "stdout",
       "text": [
        "\n",
        "373"
       ]
      },
      {
       "output_type": "stream",
       "stream": "stdout",
       "text": [
        "\n",
        "374"
       ]
      },
      {
       "output_type": "stream",
       "stream": "stdout",
       "text": [
        "\n",
        "375"
       ]
      },
      {
       "output_type": "stream",
       "stream": "stdout",
       "text": [
        "\n",
        "376"
       ]
      },
      {
       "output_type": "stream",
       "stream": "stdout",
       "text": [
        "\n",
        "377"
       ]
      },
      {
       "output_type": "stream",
       "stream": "stdout",
       "text": [
        "\n",
        "378"
       ]
      },
      {
       "output_type": "stream",
       "stream": "stdout",
       "text": [
        "\n",
        "379"
       ]
      },
      {
       "output_type": "stream",
       "stream": "stdout",
       "text": [
        "\n",
        "380"
       ]
      },
      {
       "output_type": "stream",
       "stream": "stdout",
       "text": [
        "\n",
        "381"
       ]
      },
      {
       "output_type": "stream",
       "stream": "stdout",
       "text": [
        "\n",
        "382"
       ]
      },
      {
       "output_type": "stream",
       "stream": "stdout",
       "text": [
        "\n",
        "383"
       ]
      },
      {
       "output_type": "stream",
       "stream": "stdout",
       "text": [
        "\n",
        "384"
       ]
      },
      {
       "output_type": "stream",
       "stream": "stdout",
       "text": [
        "\n",
        "385"
       ]
      },
      {
       "output_type": "stream",
       "stream": "stdout",
       "text": [
        "\n",
        "386"
       ]
      },
      {
       "output_type": "stream",
       "stream": "stdout",
       "text": [
        "\n",
        "387"
       ]
      },
      {
       "output_type": "stream",
       "stream": "stdout",
       "text": [
        "\n",
        "388"
       ]
      },
      {
       "output_type": "stream",
       "stream": "stdout",
       "text": [
        "\n",
        "389"
       ]
      },
      {
       "output_type": "stream",
       "stream": "stdout",
       "text": [
        "\n",
        "390"
       ]
      },
      {
       "output_type": "stream",
       "stream": "stdout",
       "text": [
        "\n",
        "391"
       ]
      },
      {
       "output_type": "stream",
       "stream": "stdout",
       "text": [
        "\n",
        "392"
       ]
      },
      {
       "output_type": "stream",
       "stream": "stdout",
       "text": [
        "\n",
        "393"
       ]
      },
      {
       "output_type": "stream",
       "stream": "stdout",
       "text": [
        "\n",
        "394"
       ]
      },
      {
       "output_type": "stream",
       "stream": "stdout",
       "text": [
        "\n",
        "395"
       ]
      },
      {
       "output_type": "stream",
       "stream": "stdout",
       "text": [
        "\n",
        "396"
       ]
      },
      {
       "output_type": "stream",
       "stream": "stdout",
       "text": [
        "\n",
        "397"
       ]
      },
      {
       "output_type": "stream",
       "stream": "stdout",
       "text": [
        "\n",
        "398"
       ]
      },
      {
       "output_type": "stream",
       "stream": "stdout",
       "text": [
        "\n",
        "399"
       ]
      },
      {
       "output_type": "stream",
       "stream": "stdout",
       "text": [
        "\n",
        "400"
       ]
      },
      {
       "output_type": "stream",
       "stream": "stdout",
       "text": [
        "\n",
        "401"
       ]
      },
      {
       "output_type": "stream",
       "stream": "stdout",
       "text": [
        "\n",
        "402"
       ]
      },
      {
       "output_type": "stream",
       "stream": "stdout",
       "text": [
        "\n",
        "403"
       ]
      },
      {
       "output_type": "stream",
       "stream": "stdout",
       "text": [
        "\n",
        "404"
       ]
      },
      {
       "output_type": "stream",
       "stream": "stdout",
       "text": [
        "\n",
        "405"
       ]
      },
      {
       "output_type": "stream",
       "stream": "stdout",
       "text": [
        "\n",
        "406"
       ]
      },
      {
       "output_type": "stream",
       "stream": "stdout",
       "text": [
        "\n",
        "407"
       ]
      },
      {
       "output_type": "stream",
       "stream": "stdout",
       "text": [
        "\n",
        "408"
       ]
      },
      {
       "output_type": "stream",
       "stream": "stdout",
       "text": [
        "\n",
        "409"
       ]
      },
      {
       "output_type": "stream",
       "stream": "stdout",
       "text": [
        "\n",
        "410"
       ]
      },
      {
       "output_type": "stream",
       "stream": "stdout",
       "text": [
        "\n",
        "411"
       ]
      },
      {
       "output_type": "stream",
       "stream": "stdout",
       "text": [
        "\n",
        "412"
       ]
      },
      {
       "output_type": "stream",
       "stream": "stdout",
       "text": [
        "\n",
        "413"
       ]
      },
      {
       "output_type": "stream",
       "stream": "stdout",
       "text": [
        "\n",
        "414"
       ]
      },
      {
       "output_type": "stream",
       "stream": "stdout",
       "text": [
        "\n",
        "415"
       ]
      },
      {
       "output_type": "stream",
       "stream": "stdout",
       "text": [
        "\n",
        "416"
       ]
      },
      {
       "output_type": "stream",
       "stream": "stdout",
       "text": [
        "\n",
        "417"
       ]
      },
      {
       "output_type": "stream",
       "stream": "stdout",
       "text": [
        "\n",
        "418"
       ]
      },
      {
       "output_type": "stream",
       "stream": "stdout",
       "text": [
        "\n",
        "419"
       ]
      },
      {
       "output_type": "stream",
       "stream": "stdout",
       "text": [
        "\n",
        "420"
       ]
      },
      {
       "output_type": "stream",
       "stream": "stdout",
       "text": [
        "\n",
        "421"
       ]
      },
      {
       "output_type": "stream",
       "stream": "stdout",
       "text": [
        "\n",
        "422"
       ]
      },
      {
       "output_type": "stream",
       "stream": "stdout",
       "text": [
        "\n",
        "423"
       ]
      },
      {
       "output_type": "stream",
       "stream": "stdout",
       "text": [
        "\n",
        "424"
       ]
      },
      {
       "output_type": "stream",
       "stream": "stdout",
       "text": [
        "\n",
        "425"
       ]
      },
      {
       "output_type": "stream",
       "stream": "stdout",
       "text": [
        "\n",
        "426"
       ]
      },
      {
       "output_type": "stream",
       "stream": "stdout",
       "text": [
        "\n",
        "427"
       ]
      },
      {
       "output_type": "stream",
       "stream": "stdout",
       "text": [
        "\n",
        "428"
       ]
      },
      {
       "output_type": "stream",
       "stream": "stdout",
       "text": [
        "\n",
        "429"
       ]
      },
      {
       "output_type": "stream",
       "stream": "stdout",
       "text": [
        "\n",
        "430"
       ]
      },
      {
       "output_type": "stream",
       "stream": "stdout",
       "text": [
        "\n",
        "431"
       ]
      },
      {
       "output_type": "stream",
       "stream": "stdout",
       "text": [
        "\n",
        "432"
       ]
      },
      {
       "output_type": "stream",
       "stream": "stdout",
       "text": [
        "\n",
        "433"
       ]
      },
      {
       "output_type": "stream",
       "stream": "stdout",
       "text": [
        "\n",
        "434"
       ]
      },
      {
       "output_type": "stream",
       "stream": "stdout",
       "text": [
        "\n",
        "435"
       ]
      },
      {
       "output_type": "stream",
       "stream": "stdout",
       "text": [
        "\n",
        "436"
       ]
      },
      {
       "output_type": "stream",
       "stream": "stdout",
       "text": [
        "\n",
        "437"
       ]
      },
      {
       "output_type": "stream",
       "stream": "stdout",
       "text": [
        "\n",
        "438"
       ]
      },
      {
       "output_type": "stream",
       "stream": "stdout",
       "text": [
        "\n",
        "439"
       ]
      },
      {
       "output_type": "stream",
       "stream": "stdout",
       "text": [
        "\n",
        "440"
       ]
      },
      {
       "output_type": "stream",
       "stream": "stdout",
       "text": [
        "\n",
        "441"
       ]
      },
      {
       "output_type": "stream",
       "stream": "stdout",
       "text": [
        "\n",
        "442"
       ]
      },
      {
       "output_type": "stream",
       "stream": "stdout",
       "text": [
        "\n",
        "443"
       ]
      },
      {
       "output_type": "stream",
       "stream": "stdout",
       "text": [
        "\n",
        "444"
       ]
      },
      {
       "output_type": "stream",
       "stream": "stdout",
       "text": [
        "\n",
        "445"
       ]
      },
      {
       "output_type": "stream",
       "stream": "stdout",
       "text": [
        "\n",
        "446"
       ]
      },
      {
       "output_type": "stream",
       "stream": "stdout",
       "text": [
        "\n",
        "447"
       ]
      },
      {
       "output_type": "stream",
       "stream": "stdout",
       "text": [
        "\n",
        "448"
       ]
      },
      {
       "output_type": "stream",
       "stream": "stdout",
       "text": [
        "\n",
        "449"
       ]
      },
      {
       "output_type": "stream",
       "stream": "stdout",
       "text": [
        "\n",
        "450"
       ]
      },
      {
       "output_type": "stream",
       "stream": "stdout",
       "text": [
        "\n",
        "451"
       ]
      },
      {
       "output_type": "stream",
       "stream": "stdout",
       "text": [
        "\n",
        "452"
       ]
      },
      {
       "output_type": "stream",
       "stream": "stdout",
       "text": [
        "\n",
        "453"
       ]
      },
      {
       "output_type": "stream",
       "stream": "stdout",
       "text": [
        "\n",
        "454"
       ]
      },
      {
       "output_type": "stream",
       "stream": "stdout",
       "text": [
        "\n",
        "455"
       ]
      },
      {
       "output_type": "stream",
       "stream": "stdout",
       "text": [
        "\n",
        "456"
       ]
      },
      {
       "output_type": "stream",
       "stream": "stdout",
       "text": [
        "\n",
        "457"
       ]
      },
      {
       "output_type": "stream",
       "stream": "stdout",
       "text": [
        "\n",
        "458"
       ]
      },
      {
       "output_type": "stream",
       "stream": "stdout",
       "text": [
        "\n",
        "459"
       ]
      },
      {
       "output_type": "stream",
       "stream": "stdout",
       "text": [
        "\n",
        "460"
       ]
      },
      {
       "output_type": "stream",
       "stream": "stdout",
       "text": [
        "\n",
        "461"
       ]
      },
      {
       "output_type": "stream",
       "stream": "stdout",
       "text": [
        "\n",
        "462"
       ]
      },
      {
       "output_type": "stream",
       "stream": "stdout",
       "text": [
        "\n",
        "463"
       ]
      },
      {
       "output_type": "stream",
       "stream": "stdout",
       "text": [
        "\n",
        "464"
       ]
      },
      {
       "output_type": "stream",
       "stream": "stdout",
       "text": [
        "\n",
        "465"
       ]
      },
      {
       "output_type": "stream",
       "stream": "stdout",
       "text": [
        "\n",
        "466"
       ]
      },
      {
       "output_type": "stream",
       "stream": "stdout",
       "text": [
        "\n",
        "467"
       ]
      },
      {
       "output_type": "stream",
       "stream": "stdout",
       "text": [
        "\n",
        "468"
       ]
      },
      {
       "output_type": "stream",
       "stream": "stdout",
       "text": [
        "\n",
        "469"
       ]
      },
      {
       "output_type": "stream",
       "stream": "stdout",
       "text": [
        "\n",
        "470"
       ]
      },
      {
       "output_type": "stream",
       "stream": "stdout",
       "text": [
        "\n",
        "471"
       ]
      },
      {
       "output_type": "stream",
       "stream": "stdout",
       "text": [
        "\n",
        "472"
       ]
      },
      {
       "output_type": "stream",
       "stream": "stdout",
       "text": [
        "\n",
        "473"
       ]
      },
      {
       "output_type": "stream",
       "stream": "stdout",
       "text": [
        "\n",
        "474"
       ]
      },
      {
       "output_type": "stream",
       "stream": "stdout",
       "text": [
        "\n",
        "475"
       ]
      },
      {
       "output_type": "stream",
       "stream": "stdout",
       "text": [
        "\n",
        "476"
       ]
      },
      {
       "output_type": "stream",
       "stream": "stdout",
       "text": [
        "\n",
        "477"
       ]
      },
      {
       "output_type": "stream",
       "stream": "stdout",
       "text": [
        "\n",
        "478"
       ]
      },
      {
       "output_type": "stream",
       "stream": "stdout",
       "text": [
        "\n",
        "479"
       ]
      },
      {
       "output_type": "stream",
       "stream": "stdout",
       "text": [
        "\n",
        "480"
       ]
      },
      {
       "output_type": "stream",
       "stream": "stdout",
       "text": [
        "\n",
        "481"
       ]
      },
      {
       "output_type": "stream",
       "stream": "stdout",
       "text": [
        "\n",
        "482"
       ]
      },
      {
       "output_type": "stream",
       "stream": "stdout",
       "text": [
        "\n",
        "483"
       ]
      },
      {
       "output_type": "stream",
       "stream": "stdout",
       "text": [
        "\n",
        "484"
       ]
      },
      {
       "output_type": "stream",
       "stream": "stdout",
       "text": [
        "\n",
        "485"
       ]
      },
      {
       "output_type": "stream",
       "stream": "stdout",
       "text": [
        "\n",
        "486"
       ]
      },
      {
       "output_type": "stream",
       "stream": "stdout",
       "text": [
        "\n",
        "487"
       ]
      },
      {
       "output_type": "stream",
       "stream": "stdout",
       "text": [
        "\n",
        "488"
       ]
      },
      {
       "output_type": "stream",
       "stream": "stdout",
       "text": [
        "\n",
        "489"
       ]
      },
      {
       "output_type": "stream",
       "stream": "stdout",
       "text": [
        "\n",
        "490"
       ]
      },
      {
       "output_type": "stream",
       "stream": "stdout",
       "text": [
        "\n",
        "491"
       ]
      },
      {
       "output_type": "stream",
       "stream": "stdout",
       "text": [
        "\n",
        "492"
       ]
      },
      {
       "output_type": "stream",
       "stream": "stdout",
       "text": [
        "\n",
        "493"
       ]
      },
      {
       "output_type": "stream",
       "stream": "stdout",
       "text": [
        "\n",
        "494"
       ]
      },
      {
       "output_type": "stream",
       "stream": "stdout",
       "text": [
        "\n",
        "495"
       ]
      },
      {
       "output_type": "stream",
       "stream": "stdout",
       "text": [
        "\n",
        "496"
       ]
      },
      {
       "output_type": "stream",
       "stream": "stdout",
       "text": [
        "\n",
        "497"
       ]
      },
      {
       "output_type": "stream",
       "stream": "stdout",
       "text": [
        "\n",
        "498"
       ]
      },
      {
       "output_type": "stream",
       "stream": "stdout",
       "text": [
        "\n",
        "499"
       ]
      },
      {
       "output_type": "stream",
       "stream": "stdout",
       "text": [
        "\n"
       ]
      }
     ],
     "prompt_number": 9
    },
    {
     "cell_type": "code",
     "collapsed": false,
     "input": [
      "print(weights)"
     ],
     "language": "python",
     "metadata": {},
     "outputs": [
      {
       "output_type": "stream",
       "stream": "stdout",
       "text": [
        "[[ 0.96194256  0.00751962  0.00570951  0.00364484  0.02118347]\n",
        " [ 0.74376323  0.22684351  0.02382911  0.0042895   0.00127465]\n",
        " [ 0.9088653   0.00243434  0.07169494  0.01192762  0.00507781]\n",
        " ..., \n",
        " [ 0.00468821  0.96488577  0.00307765  0.01895304  0.00839533]\n",
        " [ 0.01084655  0.9690396   0.00304357  0.01375012  0.00332016]\n",
        " [ 0.00320158  0.96667508  0.00359185  0.0150715   0.01145999]]\n"
       ]
      }
     ],
     "prompt_number": 10
    },
    {
     "cell_type": "code",
     "collapsed": false,
     "input": [
      "def compute_background_image():\n",
      "    background_image = np.zeros(data[0].shape)\n",
      "    for i in range(num_pixels):\n",
      "        maximum_likelihood_index = np.argmax(weights[i])\n",
      "        current_mean = parameters[i*num_classes + maximum_likelihood_index]['mean']\n",
      "        background_image[i] = current_mean\n",
      "    return background_image"
     ],
     "language": "python",
     "metadata": {},
     "outputs": [],
     "prompt_number": 11
    },
    {
     "cell_type": "code",
     "collapsed": false,
     "input": [
      "background_image = compute_background_image()"
     ],
     "language": "python",
     "metadata": {},
     "outputs": [],
     "prompt_number": 12
    },
    {
     "cell_type": "code",
     "collapsed": false,
     "input": [
      "plt.imshow(np.reshape(background_image, (20, 20, 3)) / 255.)\n",
      "plt.show()"
     ],
     "language": "python",
     "metadata": {},
     "outputs": [
      {
       "metadata": {},
       "output_type": "display_data",
       "png": "[encoded data removed]",
       "text": [
        "<matplotlib.figure.Figure at 0x1072c9cd0>"
       ]
      }
     ],
     "prompt_number": 13
    },
    {
     "cell_type": "code",
     "collapsed": false,
     "input": [
      "def save_current_distribution(current_pixel):\n",
      "    param_1 = parameters[0]\n",
      "    param_2 = parameters[1]\n",
      "    param_3 = parameters[2]\n",
      "    fig = plt.figure()\n",
      "    ax = fig.add_subplot(111, projection='3d')\n",
      "    X, Y, z = np.random.multivariate_normal(param_1['mean'], param_1['covariance'], int(weights[0][0] * 500)).T\n",
      "    ax.scatter(X, Y, z, c='r')\n",
      "    X, Y, z = np.random.multivariate_normal(param_2['mean'], param_2['covariance'], int(weights[0][1] * 500)).T\n",
      "    ax.scatter(X, Y, z, c='b')\n",
      "    X, Y, z = np.random.multivariate_normal(param_3['mean'], param_3['covariance'], int(weights[0][2] * 500)).T\n",
      "    ax.scatter(X, Y, z, c='g')"
     ],
     "language": "python",
     "metadata": {},
     "outputs": [],
     "prompt_number": 14
    },
    {
     "cell_type": "code",
     "collapsed": false,
     "input": [
      "param_1 = parameters[0]\n",
      "param_2 = parameters[1]\n",
      "param_3 = parameters[2]\n",
      "param_4 = parameters[3]\n",
      "param_5 = parameters[4]\n",
      "fig = plt.figure()\n",
      "ax = fig.add_subplot(111, projection='3d')\n",
      "X, Y, z = np.random.multivariate_normal(param_1['mean'], param_1['covariance'], int(500)).T\n",
      "ax.scatter(X, Y, z, c='r')\n",
      "X, Y, z = np.random.multivariate_normal(param_2['mean'], param_2['covariance'], int(500)).T\n",
      "ax.scatter(X, Y, z, c='b')\n",
      "X, Y, z = np.random.multivariate_normal(param_3['mean'], param_3['covariance'], int(500)).T\n",
      "ax.scatter(X, Y, z, c='g')\n",
      "X, Y, z = np.random.multivariate_normal(param_4['mean'], param_4['covariance'], int(500)).T\n",
      "ax.scatter(X, Y, z, c='y')\n",
      "X, Y, z = np.random.multivariate_normal(param_5['mean'], param_5['covariance'], int(500)).T\n",
      "ax.scatter(X, Y, z, c='m')\n",
      "ax.set_xlim([0, 255])\n",
      "ax.set_ylim([0, 255])\n",
      "ax.set_zlim([0, 255])"
     ],
     "language": "python",
     "metadata": {},
     "outputs": [
      {
       "metadata": {},
       "output_type": "pyout",
       "prompt_number": 29,
       "text": [
        "(0, 255)"
       ]
      },
      {
       "metadata": {},
       "output_type": "display_data",
       "png": "[encoded data removed]",
       "text": [
        "<matplotlib.figure.Figure at 0x7f433448b4d0>"
       ]
      }
     ],
     "prompt_number": 29
    },
    {
     "cell_type": "code",
     "collapsed": false,
     "input": [
      "fig = plt.figure()\n",
      "ax = fig.add_subplot(111, projection='3d')\n",
      "ax.scatter(data[:, 0, 0], data[:, 0, 1], data[:, 0, 2], c='b')\n",
      "ax.set_xlim([0, 255])\n",
      "ax.set_ylim([0, 255])\n",
      "ax.set_zlim([0, 255])"
     ],
     "language": "python",
     "metadata": {},
     "outputs": [
      {
       "metadata": {},
       "output_type": "pyout",
       "prompt_number": 30,
       "text": [
        "(0, 255)"
       ]
      },
      {
       "metadata": {},
       "output_type": "display_data",
       "png": "[encoded data removed]",
       "text": [
        "<matplotlib.figure.Figure at 0x7f433476f450>"
       ]
      }
     ],
     "prompt_number": 30
    },
    {
     "cell_type": "code",
     "collapsed": false,
     "input": [
      "def compute_vehicle_image():\n",
      "    vehicle_images = []\n",
      "    def update_with_vehicle(index):\n",
      "        current_image[index] = labels[index][t]\n",
      "        \n",
      "    img_indices = np.array([x for x in range(data[0].shape[0])])\n",
      "    for t in range(data.shape[0]):\n",
      "        current_image = np.zeros(data[0].shape)\n",
      "        np.vectorize(update_with_vehicle, cache=True)(img_indices)\n",
      "        vehicle_images.append(current_image)\n",
      "    return vehicle_images\n",
      "\n",
      "def compute_vehicle_image_original():\n",
      "    vehicle_images = []\n",
      "    def update_with_vehicle(index):\n",
      "        maximum_likelihood_index = np.argmax(weights[index])\n",
      "        if maximum_likelihood_index != labels[index][t]:\n",
      "            current_image[index] = 1\n",
      "        # indices = parameter_indices[index]\n",
      "        # covariance_det = np.array([np.linalg.det(parameters[x]['covariance']) for x in indices])\n",
      "        # vehicle_index = np.argmax(covariance_det)\n",
      "        # if vehicle_index == labels[index][t]:\n",
      "        #     current_image[index] = 1\n",
      "    \n",
      "    img_indices = np.array([x for x in range(data[0].shape[0])])\n",
      "    for t in range(data.shape[0]):\n",
      "        current_image = np.zeros(data[0].shape)\n",
      "        np.vectorize(update_with_vehicle, cache=True)(img_indices)\n",
      "        vehicle_images.append(current_image)\n",
      "    return vehicle_images"
     ],
     "language": "python",
     "metadata": {},
     "outputs": [],
     "prompt_number": 14
    },
    {
     "cell_type": "code",
     "collapsed": false,
     "input": [
      "vehicle_img = compute_vehicle_image()"
     ],
     "language": "python",
     "metadata": {},
     "outputs": [],
     "prompt_number": 15
    },
    {
     "cell_type": "code",
     "collapsed": false,
     "input": [
      "plt.imshow(vehicle_img[306].reshape(20, 20, 3))\n",
      "plt.colorbar()\n",
      "plt.show()"
     ],
     "language": "python",
     "metadata": {},
     "outputs": [
      {
       "output_type": "stream",
       "stream": "stderr",
       "text": [
        "/Library/Python/2.7/site-packages/matplotlib/collections.py:590: FutureWarning: elementwise comparison failed; returning scalar instead, but in the future will perform elementwise comparison\n",
        "  if self._edgecolors == str('face'):\n"
       ]
      },
      {
       "metadata": {},
       "output_type": "display_data",
       "png": "[encoded data removed]",
       "text": [
        "<matplotlib.figure.Figure at 0x1074b1c90>"
       ]
      }
     ],
     "prompt_number": 16
    },
    {
     "cell_type": "code",
     "collapsed": false,
     "input": [
      "i = 0\n",
      "for img in vehicle_img:\n",
      "    skio.imsave('gif/vehicle_label_sg_test/img_{0}.jpg'.format(i), img.reshape(20, 20, 3))\n",
      "    i += 1"
     ],
     "language": "python",
     "metadata": {},
     "outputs": [
      {
       "output_type": "stream",
       "stream": "stderr",
       "text": [
        "/share/instsww/anaconda/envs/cs186/lib/python2.7/site-packages/skimage/io/_io.py:159: UserWarning: gif/vehicle_label_sg_test/img_0.jpg is a low contrast image\n",
        "  warnings.warn('%s is a low contrast image' % fname)\n",
        "/share/instsww/anaconda/envs/cs186/lib/python2.7/site-packages/skimage/util/dtype.py:111: UserWarning: Possible precision loss when converting from float64 to uint8\n",
        "  \"%s to %s\" % (dtypeobj_in, dtypeobj))\n",
        "/share/instsww/anaconda/envs/cs186/lib/python2.7/site-packages/skimage/io/_io.py:159: UserWarning: gif/vehicle_label_sg_test/img_50.jpg is a low contrast image\n",
        "  warnings.warn('%s is a low contrast image' % fname)\n",
        "/share/instsww/anaconda/envs/cs186/lib/python2.7/site-packages/skimage/io/_io.py:159: UserWarning: gif/vehicle_label_sg_test/img_71.jpg is a low contrast image\n",
        "  warnings.warn('%s is a low contrast image' % fname)\n",
        "/share/instsww/anaconda/envs/cs186/lib/python2.7/site-packages/skimage/io/_io.py:159: UserWarning: gif/vehicle_label_sg_test/img_72.jpg is a low contrast image\n",
        "  warnings.warn('%s is a low contrast image' % fname)\n",
        "/share/instsww/anaconda/envs/cs186/lib/python2.7/site-packages/skimage/io/_io.py:159: UserWarning: gif/vehicle_label_sg_test/img_73.jpg is a low contrast image\n",
        "  warnings.warn('%s is a low contrast image' % fname)\n",
        "/share/instsww/anaconda/envs/cs186/lib/python2.7/site-packages/skimage/io/_io.py:159: UserWarning: gif/vehicle_label_sg_test/img_109.jpg is a low contrast image\n",
        "  warnings.warn('%s is a low contrast image' % fname)\n",
        "/share/instsww/anaconda/envs/cs186/lib/python2.7/site-packages/skimage/io/_io.py:159: UserWarning: gif/vehicle_label_sg_test/img_110.jpg is a low contrast image\n",
        "  warnings.warn('%s is a low contrast image' % fname)\n",
        "/share/instsww/anaconda/envs/cs186/lib/python2.7/site-packages/skimage/io/_io.py:159: UserWarning: gif/vehicle_label_sg_test/img_111.jpg is a low contrast image\n",
        "  warnings.warn('%s is a low contrast image' % fname)\n",
        "/share/instsww/anaconda/envs/cs186/lib/python2.7/site-packages/skimage/io/_io.py:159: UserWarning: gif/vehicle_label_sg_test/img_112.jpg is a low contrast image\n",
        "  warnings.warn('%s is a low contrast image' % fname)\n",
        "/share/instsww/anaconda/envs/cs186/lib/python2.7/site-packages/skimage/io/_io.py:159: UserWarning: gif/vehicle_label_sg_test/img_114.jpg is a low contrast image\n",
        "  warnings.warn('%s is a low contrast image' % fname)\n",
        "/share/instsww/anaconda/envs/cs186/lib/python2.7/site-packages/skimage/io/_io.py:159: UserWarning: gif/vehicle_label_sg_test/img_119.jpg is a low contrast image\n",
        "  warnings.warn('%s is a low contrast image' % fname)\n",
        "/share/instsww/anaconda/envs/cs186/lib/python2.7/site-packages/skimage/io/_io.py:159: UserWarning: gif/vehicle_label_sg_test/img_120.jpg is a low contrast image\n",
        "  warnings.warn('%s is a low contrast image' % fname)\n",
        "/share/instsww/anaconda/envs/cs186/lib/python2.7/site-packages/skimage/io/_io.py:159: UserWarning: gif/vehicle_label_sg_test/img_121.jpg is a low contrast image\n",
        "  warnings.warn('%s is a low contrast image' % fname)\n",
        "/share/instsww/anaconda/envs/cs186/lib/python2.7/site-packages/skimage/io/_io.py:159: UserWarning: gif/vehicle_label_sg_test/img_122.jpg is a low contrast image\n",
        "  warnings.warn('%s is a low contrast image' % fname)\n",
        "/share/instsww/anaconda/envs/cs186/lib/python2.7/site-packages/skimage/io/_io.py:159: UserWarning: gif/vehicle_label_sg_test/img_123.jpg is a low contrast image\n",
        "  warnings.warn('%s is a low contrast image' % fname)\n",
        "/share/instsww/anaconda/envs/cs186/lib/python2.7/site-packages/skimage/io/_io.py:159: UserWarning: gif/vehicle_label_sg_test/img_124.jpg is a low contrast image\n",
        "  warnings.warn('%s is a low contrast image' % fname)\n",
        "/share/instsww/anaconda/envs/cs186/lib/python2.7/site-packages/skimage/io/_io.py:159: UserWarning: gif/vehicle_label_sg_test/img_125.jpg is a low contrast image\n",
        "  warnings.warn('%s is a low contrast image' % fname)\n",
        "/share/instsww/anaconda/envs/cs186/lib/python2.7/site-packages/skimage/io/_io.py:159: UserWarning: gif/vehicle_label_sg_test/img_126.jpg is a low contrast image\n",
        "  warnings.warn('%s is a low contrast image' % fname)\n",
        "/share/instsww/anaconda/envs/cs186/lib/python2.7/site-packages/skimage/io/_io.py:159: UserWarning: gif/vehicle_label_sg_test/img_127.jpg is a low contrast image\n",
        "  warnings.warn('%s is a low contrast image' % fname)\n",
        "/share/instsww/anaconda/envs/cs186/lib/python2.7/site-packages/skimage/io/_io.py:159: UserWarning: gif/vehicle_label_sg_test/img_128.jpg is a low contrast image\n",
        "  warnings.warn('%s is a low contrast image' % fname)\n",
        "/share/instsww/anaconda/envs/cs186/lib/python2.7/site-packages/skimage/io/_io.py:159: UserWarning: gif/vehicle_label_sg_test/img_129.jpg is a low contrast image\n",
        "  warnings.warn('%s is a low contrast image' % fname)\n",
        "/share/instsww/anaconda/envs/cs186/lib/python2.7/site-packages/skimage/io/_io.py:159: UserWarning: gif/vehicle_label_sg_test/img_151.jpg is a low contrast image\n",
        "  warnings.warn('%s is a low contrast image' % fname)\n",
        "/share/instsww/anaconda/envs/cs186/lib/python2.7/site-packages/skimage/io/_io.py:159: UserWarning: gif/vehicle_label_sg_test/img_152.jpg is a low contrast image\n",
        "  warnings.warn('%s is a low contrast image' % fname)\n",
        "/share/instsww/anaconda/envs/cs186/lib/python2.7/site-packages/skimage/io/_io.py:159: UserWarning: gif/vehicle_label_sg_test/img_153.jpg is a low contrast image\n",
        "  warnings.warn('%s is a low contrast image' % fname)\n",
        "/share/instsww/anaconda/envs/cs186/lib/python2.7/site-packages/skimage/io/_io.py:159: UserWarning: gif/vehicle_label_sg_test/img_154.jpg is a low contrast image\n",
        "  warnings.warn('%s is a low contrast image' % fname)\n",
        "/share/instsww/anaconda/envs/cs186/lib/python2.7/site-packages/skimage/io/_io.py:159: UserWarning: gif/vehicle_label_sg_test/img_155.jpg is a low contrast image\n",
        "  warnings.warn('%s is a low contrast image' % fname)\n",
        "/share/instsww/anaconda/envs/cs186/lib/python2.7/site-packages/skimage/io/_io.py:159: UserWarning: gif/vehicle_label_sg_test/img_156.jpg is a low contrast image\n",
        "  warnings.warn('%s is a low contrast image' % fname)\n",
        "/share/instsww/anaconda/envs/cs186/lib/python2.7/site-packages/skimage/io/_io.py:159: UserWarning: gif/vehicle_label_sg_test/img_157.jpg is a low contrast image\n",
        "  warnings.warn('%s is a low contrast image' % fname)\n",
        "/share/instsww/anaconda/envs/cs186/lib/python2.7/site-packages/skimage/io/_io.py:159: UserWarning: gif/vehicle_label_sg_test/img_158.jpg is a low contrast image\n",
        "  warnings.warn('%s is a low contrast image' % fname)\n",
        "/share/instsww/anaconda/envs/cs186/lib/python2.7/site-packages/skimage/io/_io.py:159: UserWarning: gif/vehicle_label_sg_test/img_159.jpg is a low contrast image\n",
        "  warnings.warn('%s is a low contrast image' % fname)\n",
        "/share/instsww/anaconda/envs/cs186/lib/python2.7/site-packages/skimage/io/_io.py:159: UserWarning: gif/vehicle_label_sg_test/img_160.jpg is a low contrast image\n",
        "  warnings.warn('%s is a low contrast image' % fname)\n",
        "/share/instsww/anaconda/envs/cs186/lib/python2.7/site-packages/skimage/io/_io.py:159: UserWarning: gif/vehicle_label_sg_test/img_161.jpg is a low contrast image\n",
        "  warnings.warn('%s is a low contrast image' % fname)\n",
        "/share/instsww/anaconda/envs/cs186/lib/python2.7/site-packages/skimage/io/_io.py:159: UserWarning: gif/vehicle_label_sg_test/img_283.jpg is a low contrast image\n",
        "  warnings.warn('%s is a low contrast image' % fname)\n",
        "/share/instsww/anaconda/envs/cs186/lib/python2.7/site-packages/skimage/io/_io.py:159: UserWarning: gif/vehicle_label_sg_test/img_284.jpg is a low contrast image\n",
        "  warnings.warn('%s is a low contrast image' % fname)\n",
        "/share/instsww/anaconda/envs/cs186/lib/python2.7/site-packages/skimage/io/_io.py:159: UserWarning: gif/vehicle_label_sg_test/img_285.jpg is a low contrast image\n",
        "  warnings.warn('%s is a low contrast image' % fname)\n",
        "/share/instsww/anaconda/envs/cs186/lib/python2.7/site-packages/skimage/io/_io.py:159: UserWarning: gif/vehicle_label_sg_test/img_286.jpg is a low contrast image\n",
        "  warnings.warn('%s is a low contrast image' % fname)\n",
        "/share/instsww/anaconda/envs/cs186/lib/python2.7/site-packages/skimage/io/_io.py:159: UserWarning: gif/vehicle_label_sg_test/img_287.jpg is a low contrast image\n",
        "  warnings.warn('%s is a low contrast image' % fname)\n",
        "/share/instsww/anaconda/envs/cs186/lib/python2.7/site-packages/skimage/io/_io.py:159: UserWarning: gif/vehicle_label_sg_test/img_288.jpg is a low contrast image\n",
        "  warnings.warn('%s is a low contrast image' % fname)\n",
        "/share/instsww/anaconda/envs/cs186/lib/python2.7/site-packages/skimage/io/_io.py:159: UserWarning: gif/vehicle_label_sg_test/img_289.jpg is a low contrast image\n",
        "  warnings.warn('%s is a low contrast image' % fname)\n",
        "/share/instsww/anaconda/envs/cs186/lib/python2.7/site-packages/skimage/io/_io.py:159: UserWarning: gif/vehicle_label_sg_test/img_321.jpg is a low contrast image\n",
        "  warnings.warn('%s is a low contrast image' % fname)\n",
        "/share/instsww/anaconda/envs/cs186/lib/python2.7/site-packages/skimage/io/_io.py:159: UserWarning: gif/vehicle_label_sg_test/img_402.jpg is a low contrast image\n",
        "  warnings.warn('%s is a low contrast image' % fname)\n",
        "/share/instsww/anaconda/envs/cs186/lib/python2.7/site-packages/skimage/io/_io.py:159: UserWarning: gif/vehicle_label_sg_test/img_404.jpg is a low contrast image\n",
        "  warnings.warn('%s is a low contrast image' % fname)\n",
        "/share/instsww/anaconda/envs/cs186/lib/python2.7/site-packages/skimage/io/_io.py:159: UserWarning: gif/vehicle_label_sg_test/img_405.jpg is a low contrast image\n",
        "  warnings.warn('%s is a low contrast image' % fname)\n",
        "/share/instsww/anaconda/envs/cs186/lib/python2.7/site-packages/skimage/io/_io.py:159: UserWarning: gif/vehicle_label_sg_test/img_406.jpg is a low contrast image\n",
        "  warnings.warn('%s is a low contrast image' % fname)\n",
        "/share/instsww/anaconda/envs/cs186/lib/python2.7/site-packages/skimage/io/_io.py:159: UserWarning: gif/vehicle_label_sg_test/img_407.jpg is a low contrast image\n",
        "  warnings.warn('%s is a low contrast image' % fname)\n",
        "/share/instsww/anaconda/envs/cs186/lib/python2.7/site-packages/skimage/io/_io.py:159: UserWarning: gif/vehicle_label_sg_test/img_408.jpg is a low contrast image\n",
        "  warnings.warn('%s is a low contrast image' % fname)\n",
        "/share/instsww/anaconda/envs/cs186/lib/python2.7/site-packages/skimage/io/_io.py:159: UserWarning: gif/vehicle_label_sg_test/img_409.jpg is a low contrast image\n",
        "  warnings.warn('%s is a low contrast image' % fname)\n",
        "/share/instsww/anaconda/envs/cs186/lib/python2.7/site-packages/skimage/io/_io.py:159: UserWarning: gif/vehicle_label_sg_test/img_410.jpg is a low contrast image\n",
        "  warnings.warn('%s is a low contrast image' % fname)\n",
        "/share/instsww/anaconda/envs/cs186/lib/python2.7/site-packages/skimage/io/_io.py:159: UserWarning: gif/vehicle_label_sg_test/img_411.jpg is a low contrast image\n",
        "  warnings.warn('%s is a low contrast image' % fname)\n",
        "/share/instsww/anaconda/envs/cs186/lib/python2.7/site-packages/skimage/io/_io.py:159: UserWarning: gif/vehicle_label_sg_test/img_412.jpg is a low contrast image\n",
        "  warnings.warn('%s is a low contrast image' % fname)\n",
        "/share/instsww/anaconda/envs/cs186/lib/python2.7/site-packages/skimage/io/_io.py:159: UserWarning: gif/vehicle_label_sg_test/img_413.jpg is a low contrast image\n",
        "  warnings.warn('%s is a low contrast image' % fname)\n",
        "/share/instsww/anaconda/envs/cs186/lib/python2.7/site-packages/skimage/io/_io.py:159: UserWarning: gif/vehicle_label_sg_test/img_414.jpg is a low contrast image\n",
        "  warnings.warn('%s is a low contrast image' % fname)\n",
        "/share/instsww/anaconda/envs/cs186/lib/python2.7/site-packages/skimage/io/_io.py:159: UserWarning: gif/vehicle_label_sg_test/img_415.jpg is a low contrast image\n",
        "  warnings.warn('%s is a low contrast image' % fname)\n",
        "/share/instsww/anaconda/envs/cs186/lib/python2.7/site-packages/skimage/io/_io.py:159: UserWarning: gif/vehicle_label_sg_test/img_417.jpg is a low contrast image\n",
        "  warnings.warn('%s is a low contrast image' % fname)\n",
        "/share/instsww/anaconda/envs/cs186/lib/python2.7/site-packages/skimage/io/_io.py:159: UserWarning: gif/vehicle_label_sg_test/img_418.jpg is a low contrast image\n",
        "  warnings.warn('%s is a low contrast image' % fname)\n",
        "/share/instsww/anaconda/envs/cs186/lib/python2.7/site-packages/skimage/io/_io.py:159: UserWarning: gif/vehicle_label_sg_test/img_419.jpg is a low contrast image\n",
        "  warnings.warn('%s is a low contrast image' % fname)\n",
        "/share/instsww/anaconda/envs/cs186/lib/python2.7/site-packages/skimage/io/_io.py:159: UserWarning: gif/vehicle_label_sg_test/img_420.jpg is a low contrast image\n",
        "  warnings.warn('%s is a low contrast image' % fname)\n",
        "/share/instsww/anaconda/envs/cs186/lib/python2.7/site-packages/skimage/io/_io.py:159: UserWarning: gif/vehicle_label_sg_test/img_421.jpg is a low contrast image\n",
        "  warnings.warn('%s is a low contrast image' % fname)\n",
        "/share/instsww/anaconda/envs/cs186/lib/python2.7/site-packages/skimage/io/_io.py:159: UserWarning: gif/vehicle_label_sg_test/img_422.jpg is a low contrast image\n",
        "  warnings.warn('%s is a low contrast image' % fname)\n",
        "/share/instsww/anaconda/envs/cs186/lib/python2.7/site-packages/skimage/io/_io.py:159: UserWarning: gif/vehicle_label_sg_test/img_423.jpg is a low contrast image\n",
        "  warnings.warn('%s is a low contrast image' % fname)\n",
        "/share/instsww/anaconda/envs/cs186/lib/python2.7/site-packages/skimage/io/_io.py:159: UserWarning: gif/vehicle_label_sg_test/img_424.jpg is a low contrast image\n",
        "  warnings.warn('%s is a low contrast image' % fname)\n",
        "/share/instsww/anaconda/envs/cs186/lib/python2.7/site-packages/skimage/io/_io.py:159: UserWarning: gif/vehicle_label_sg_test/img_425.jpg is a low contrast image\n",
        "  warnings.warn('%s is a low contrast image' % fname)\n",
        "/share/instsww/anaconda/envs/cs186/lib/python2.7/site-packages/skimage/io/_io.py:159: UserWarning: gif/vehicle_label_sg_test/img_426.jpg is a low contrast image\n",
        "  warnings.warn('%s is a low contrast image' % fname)\n",
        "/share/instsww/anaconda/envs/cs186/lib/python2.7/site-packages/skimage/io/_io.py:159: UserWarning: gif/vehicle_label_sg_test/img_427.jpg is a low contrast image\n",
        "  warnings.warn('%s is a low contrast image' % fname)\n",
        "/share/instsww/anaconda/envs/cs186/lib/python2.7/site-packages/skimage/io/_io.py:159: UserWarning: gif/vehicle_label_sg_test/img_428.jpg is a low contrast image\n",
        "  warnings.warn('%s is a low contrast image' % fname)\n",
        "/share/instsww/anaconda/envs/cs186/lib/python2.7/site-packages/skimage/io/_io.py:159: UserWarning: gif/vehicle_label_sg_test/img_429.jpg is a low contrast image\n",
        "  warnings.warn('%s is a low contrast image' % fname)\n",
        "/share/instsww/anaconda/envs/cs186/lib/python2.7/site-packages/skimage/io/_io.py:159: UserWarning: gif/vehicle_label_sg_test/img_430.jpg is a low contrast image\n",
        "  warnings.warn('%s is a low contrast image' % fname)\n",
        "/share/instsww/anaconda/envs/cs186/lib/python2.7/site-packages/skimage/io/_io.py:159: UserWarning: gif/vehicle_label_sg_test/img_431.jpg is a low contrast image\n",
        "  warnings.warn('%s is a low contrast image' % fname)\n"
       ]
      }
     ],
     "prompt_number": 29
    },
    {
     "cell_type": "code",
     "collapsed": false,
     "input": [
      "from pystruct.models import GridCRF"
     ],
     "language": "python",
     "metadata": {},
     "outputs": [],
     "prompt_number": 22
    },
    {
     "cell_type": "code",
     "collapsed": false,
     "input": [
      "GridCRF()"
     ],
     "language": "python",
     "metadata": {},
     "outputs": []
    },
    {
     "cell_type": "code",
     "collapsed": false,
     "input": [
      "for t in range(500):\n",
      "    # prev_label = skimage.img_as_float(skio.imread('gif/vehicle_label_2/img_{}.jpg'.format(t)))\n",
      "    labeled = vehicle_img[t].reshape(20, 20, 3)\n",
      "    current_data = data[t].reshape(20, 20, 3) / 255.\n",
      "    concat = np.hstack((current_data, labeled))\n",
      "    skio.imsave('images/vehicle_img_sg_combined_test/img_{0}.jpg'.format(t), concat)"
     ],
     "language": "python",
     "metadata": {},
     "outputs": [
      {
       "output_type": "stream",
       "stream": "stderr",
       "text": [
        "/share/instsww/anaconda/envs/cs186/lib/python2.7/site-packages/skimage/util/dtype.py:111: UserWarning: Possible precision loss when converting from float64 to uint8\n",
        "  \"%s to %s\" % (dtypeobj_in, dtypeobj))\n"
       ]
      }
     ],
     "prompt_number": 23
    },
    {
     "cell_type": "code",
     "collapsed": false,
     "input": [
      "parameters[0]"
     ],
     "language": "python",
     "metadata": {},
     "outputs": [
      {
       "metadata": {},
       "output_type": "pyout",
       "prompt_number": 24,
       "text": [
        "{'covariance': array([[ 2343.41229318,  2289.03695271,  1575.02174295],\n",
        "        [ 2289.03695271,  2373.60423064,  1694.28560991],\n",
        "        [ 1575.02174295,  1694.28560991,  1345.8053674 ]]),\n",
        " 'mean': array([ 163.81000986,  149.64029362,  178.82512125])}"
       ]
      }
     ],
     "prompt_number": 24
    },
    {
     "cell_type": "code",
     "collapsed": false,
     "input": [
      "parameters[1]"
     ],
     "language": "python",
     "metadata": {},
     "outputs": [
      {
       "metadata": {},
       "output_type": "pyout",
       "prompt_number": 25,
       "text": [
        "{'covariance': array([[ 1260.95698587,  1098.25858098,   577.04929819],\n",
        "        [ 1098.25858098,  1949.13181016,   865.02845722],\n",
        "        [  577.04929819,   865.02845722,  1031.47859622]]),\n",
        " 'mean': array([ 206.54338373,  143.44454947,  142.68779345])}"
       ]
      }
     ],
     "prompt_number": 25
    },
    {
     "cell_type": "code",
     "collapsed": false,
     "input": [
      "parameters[2]"
     ],
     "language": "python",
     "metadata": {},
     "outputs": [
      {
       "metadata": {},
       "output_type": "pyout",
       "prompt_number": 28,
       "text": [
        "{'covariance': array([[ 2339.70118992,  2299.95795668,  1576.85678268],\n",
        "        [ 2299.95795668,  2379.33969248,  1694.96680072],\n",
        "        [ 1576.85678268,  1694.96680072,  1399.84662854]]),\n",
        " 'mean': array([ 163.45951315,  148.99369286,  177.51988179])}"
       ]
      }
     ],
     "prompt_number": 28
    },
    {
     "cell_type": "code",
     "collapsed": false,
     "input": [
      "import skimage"
     ],
     "language": "python",
     "metadata": {},
     "outputs": [],
     "prompt_number": 101
    },
    {
     "cell_type": "code",
     "collapsed": false,
     "input": [
      "for i in range(490, 500):\n",
      "    plt.imshow(vehicle_img[i][:, 0].reshape(20, 20))\n",
      "    plt.colorbar()\n",
      "    # plt.savefig('gif/vehicle_plot_sequence/img_{}.jpg'.format(i))\n",
      "    plt.show()"
     ],
     "language": "python",
     "metadata": {},
     "outputs": [
      {
       "metadata": {},
       "output_type": "display_data",
       "png": "[encoded data removed]",
       "text": [
        "<matplotlib.figure.Figure at 0x108cce650>"
       ]
      },
      {
       "metadata": {},
       "output_type": "display_data",
       "png": "[encoded data removed]",
       "text": [
        "<matplotlib.figure.Figure at 0x108d8ad10>"
       ]
      },
      {
       "metadata": {},
       "output_type": "display_data",
       "png": "[encoded data removed]",
       "text": [
        "<matplotlib.figure.Figure at 0x109c99090>"
       ]
      },
      {
       "metadata": {},
       "output_type": "display_data",
       "png": "[encoded data removed]",
       "text": [
        "<matplotlib.figure.Figure at 0x108fbf5d0>"
       ]
      },
      {
       "metadata": {},
       "output_type": "display_data",
       "png": "[encoded data removed]",
       "text": [
        "<matplotlib.figure.Figure at 0x109cbd810>"
       ]
      },
      {
       "metadata": {},
       "output_type": "display_data",
       "png": "[encoded data removed]",
       "text": [
        "<matplotlib.figure.Figure at 0x109e79b10>"
       ]
      },
      {
       "metadata": {},
       "output_type": "display_data",
       "png": "[encoded data removed]",
       "text": [
        "<matplotlib.figure.Figure at 0x109987bd0>"
       ]
      },
      {
       "metadata": {},
       "output_type": "display_data",
       "png": "[encoded data removed]",
       "text": [
        "<matplotlib.figure.Figure at 0x109c26c50>"
       ]
      },
      {
       "metadata": {},
       "output_type": "display_data",
       "png": "[encoded data removed]",
       "text": [
        "<matplotlib.figure.Figure at 0x109e4ab90>"
       ]
      },
      {
       "metadata": {},
       "output_type": "display_data",
       "png": "[encoded data removed]",
       "text": [
        "<matplotlib.figure.Figure at 0x109e3bdd0>"
       ]
      }
     ],
     "prompt_number": 21
    },
    {
     "cell_type": "code",
     "collapsed": true,
     "input": [],
     "language": "python",
     "metadata": {},
     "outputs": [],
     "prompt_number": null
    }
   ],
   "metadata": {}
  }
 ]
}