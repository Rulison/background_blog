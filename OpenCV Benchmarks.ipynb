{
 "metadata": {
  "name": "",
  "signature": "sha256:7037a5c64fa50822241f80763f234c5fb89947f42a9abc05d0d2104a1f9d61ec"
 },
 "nbformat": 3,
 "nbformat_minor": 0,
 "worksheets": [
  {
   "cells": [
    {
     "cell_type": "code",
     "collapsed": false,
     "input": [
      "import numpy as np\n",
      "import cv2\n",
      "import os\n",
      "\n",
      "import skimage.io as skio"
     ],
     "language": "python",
     "metadata": {},
     "outputs": [],
     "prompt_number": 1
    },
    {
     "cell_type": "code",
     "collapsed": false,
     "input": [
      "# Create background subtraction estimator for MOG2\n",
      "fgbg = cv2.BackgroundSubtractorMOG2()"
     ],
     "language": "python",
     "metadata": {},
     "outputs": [],
     "prompt_number": 63
    },
    {
     "cell_type": "code",
     "collapsed": false,
     "input": [
      "img_filenames = os.listdir('sequences/long2b/')\n",
      "masks = []\n",
      "combined = []\n",
      "for img in img_filenames:    \n",
      "    curr_img = skio.imread('sequences/long2b/' + img)\n",
      "    mask = fgbg.apply(curr_img)\n",
      "    masks.append(mask)\n",
      "    combined.append(np.hstack((curr_img, np.dstack((mask, mask, mask)))))"
     ],
     "language": "python",
     "metadata": {},
     "outputs": [],
     "prompt_number": 64
    },
    {
     "cell_type": "code",
     "collapsed": false,
     "input": [
      "i = 0\n",
      "for combined_img in combined:\n",
      "    skio.imsave('gif/opencv_mog2/img_{}.jpg'.format(i), combined_img)\n",
      "    i += 1"
     ],
     "language": "python",
     "metadata": {},
     "outputs": [],
     "prompt_number": 65
    },
    {
     "cell_type": "code",
     "collapsed": false,
     "input": [
      "skio.imshow(combined[100])\n",
      "skio.show()"
     ],
     "language": "python",
     "metadata": {},
     "outputs": [],
     "prompt_number": 66
    },
    {
     "cell_type": "code",
     "collapsed": false,
     "input": [
      "mog = []\n",
      "mog2 = []\n",
      "em = []\n",
      "data = []\n",
      "for i in range(500):\n",
      "    mog.append(skio.imread('gif/opencv_mog/img_{}.jpg'.format(i)))\n",
      "    mog2.append(skio.imread('gif/opencv_mog2/img_{}.jpg'.format(i)))\n",
      "    em.append(skio.imread('gif/vehicle_label_2/img_{}.jpg'.format(i)))\n",
      "    # data.append(skio.imread('sequences/long2b/img.0{}.ppm'.format(i)))"
     ],
     "language": "python",
     "metadata": {},
     "outputs": [],
     "prompt_number": 5
    },
    {
     "cell_type": "code",
     "collapsed": false,
     "input": [
      "img_filenames = os.listdir('sequences/long2b/')\n",
      "for img in img_filenames:\n",
      "    data.append(skio.imread('sequences/long2b/' + img))"
     ],
     "language": "python",
     "metadata": {},
     "outputs": [],
     "prompt_number": 7
    },
    {
     "cell_type": "code",
     "collapsed": false,
     "input": [
      "for i in range(500):\n",
      "    top = np.hstack((data[i], mog[i][:, 20:]))\n",
      "    bot = np.hstack((mog2[i][:, 20:], em[i]))\n",
      "    output = np.vstack((top, bot))\n",
      "    skio.imsave('gif/mog_em_combined/img_{}.jpg'.format(i), output)"
     ],
     "language": "python",
     "metadata": {},
     "outputs": [],
     "prompt_number": 50
    },
    {
     "cell_type": "code",
     "collapsed": false,
     "input": [
      "skio.imshow(output)\n",
      "skio.show()"
     ],
     "language": "python",
     "metadata": {},
     "outputs": [],
     "prompt_number": 51
    },
    {
     "cell_type": "code",
     "collapsed": false,
     "input": [],
     "language": "python",
     "metadata": {},
     "outputs": []
    }
   ],
   "metadata": {}
  }
 ]
}